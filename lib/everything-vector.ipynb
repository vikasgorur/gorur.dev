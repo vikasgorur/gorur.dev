{
 "cells": [
  {
   "cell_type": "code",
   "execution_count": 1,
   "metadata": {},
   "outputs": [
    {
     "data": {
      "text/html": [
       "<div><div style = \"float: left;\"><span>1000×3 DataFrame</span></div><div style = \"float: right;\"><span style = \"font-style: italic;\">975 rows omitted</span></div><div style = \"clear: both;\"></div></div><div class = \"data-frame\" style = \"overflow-x: scroll;\"><table class = \"data-frame\" style = \"margin-bottom: 6px;\"><thead><tr class = \"header\"><th class = \"rowNumber\" style = \"font-weight: bold; text-align: right;\">Row</th><th style = \"text-align: left;\">w5</th><th style = \"text-align: left;\">w7</th><th style = \"text-align: left;\">room</th></tr><tr class = \"subheader headerLastRow\"><th class = \"rowNumber\" style = \"font-weight: bold; text-align: right;\"></th><th title = \"Int64\" style = \"text-align: left;\">Int64</th><th title = \"Int64\" style = \"text-align: left;\">Int64</th><th title = \"Int64\" style = \"text-align: left;\">Int64</th></tr></thead><tbody><tr><td class = \"rowNumber\" style = \"font-weight: bold; text-align: right;\">1</td><td style = \"text-align: right;\">-71</td><td style = \"text-align: right;\">-81</td><td style = \"text-align: right;\">1</td></tr><tr><td class = \"rowNumber\" style = \"font-weight: bold; text-align: right;\">2</td><td style = \"text-align: right;\">-71</td><td style = \"text-align: right;\">-85</td><td style = \"text-align: right;\">1</td></tr><tr><td class = \"rowNumber\" style = \"font-weight: bold; text-align: right;\">3</td><td style = \"text-align: right;\">-76</td><td style = \"text-align: right;\">-84</td><td style = \"text-align: right;\">1</td></tr><tr><td class = \"rowNumber\" style = \"font-weight: bold; text-align: right;\">4</td><td style = \"text-align: right;\">-77</td><td style = \"text-align: right;\">-80</td><td style = \"text-align: right;\">1</td></tr><tr><td class = \"rowNumber\" style = \"font-weight: bold; text-align: right;\">5</td><td style = \"text-align: right;\">-77</td><td style = \"text-align: right;\">-87</td><td style = \"text-align: right;\">1</td></tr><tr><td class = \"rowNumber\" style = \"font-weight: bold; text-align: right;\">6</td><td style = \"text-align: right;\">-76</td><td style = \"text-align: right;\">-83</td><td style = \"text-align: right;\">1</td></tr><tr><td class = \"rowNumber\" style = \"font-weight: bold; text-align: right;\">7</td><td style = \"text-align: right;\">-69</td><td style = \"text-align: right;\">-84</td><td style = \"text-align: right;\">1</td></tr><tr><td class = \"rowNumber\" style = \"font-weight: bold; text-align: right;\">8</td><td style = \"text-align: right;\">-74</td><td style = \"text-align: right;\">-82</td><td style = \"text-align: right;\">1</td></tr><tr><td class = \"rowNumber\" style = \"font-weight: bold; text-align: right;\">9</td><td style = \"text-align: right;\">-76</td><td style = \"text-align: right;\">-82</td><td style = \"text-align: right;\">1</td></tr><tr><td class = \"rowNumber\" style = \"font-weight: bold; text-align: right;\">10</td><td style = \"text-align: right;\">-80</td><td style = \"text-align: right;\">-91</td><td style = \"text-align: right;\">1</td></tr><tr><td class = \"rowNumber\" style = \"font-weight: bold; text-align: right;\">11</td><td style = \"text-align: right;\">-77</td><td style = \"text-align: right;\">-91</td><td style = \"text-align: right;\">1</td></tr><tr><td class = \"rowNumber\" style = \"font-weight: bold; text-align: right;\">12</td><td style = \"text-align: right;\">-72</td><td style = \"text-align: right;\">-81</td><td style = \"text-align: right;\">1</td></tr><tr><td class = \"rowNumber\" style = \"font-weight: bold; text-align: right;\">13</td><td style = \"text-align: right;\">-73</td><td style = \"text-align: right;\">-84</td><td style = \"text-align: right;\">1</td></tr><tr><td style = \"text-align: right;\">&vellip;</td><td style = \"text-align: right;\">&vellip;</td><td style = \"text-align: right;\">&vellip;</td><td style = \"text-align: right;\">&vellip;</td></tr><tr><td class = \"rowNumber\" style = \"font-weight: bold; text-align: right;\">989</td><td style = \"text-align: right;\">-58</td><td style = \"text-align: right;\">-70</td><td style = \"text-align: right;\">2</td></tr><tr><td class = \"rowNumber\" style = \"font-weight: bold; text-align: right;\">990</td><td style = \"text-align: right;\">-61</td><td style = \"text-align: right;\">-74</td><td style = \"text-align: right;\">2</td></tr><tr><td class = \"rowNumber\" style = \"font-weight: bold; text-align: right;\">991</td><td style = \"text-align: right;\">-73</td><td style = \"text-align: right;\">-74</td><td style = \"text-align: right;\">2</td></tr><tr><td class = \"rowNumber\" style = \"font-weight: bold; text-align: right;\">992</td><td style = \"text-align: right;\">-64</td><td style = \"text-align: right;\">-73</td><td style = \"text-align: right;\">2</td></tr><tr><td class = \"rowNumber\" style = \"font-weight: bold; text-align: right;\">993</td><td style = \"text-align: right;\">-68</td><td style = \"text-align: right;\">-74</td><td style = \"text-align: right;\">2</td></tr><tr><td class = \"rowNumber\" style = \"font-weight: bold; text-align: right;\">994</td><td style = \"text-align: right;\">-71</td><td style = \"text-align: right;\">-79</td><td style = \"text-align: right;\">2</td></tr><tr><td class = \"rowNumber\" style = \"font-weight: bold; text-align: right;\">995</td><td style = \"text-align: right;\">-71</td><td style = \"text-align: right;\">-79</td><td style = \"text-align: right;\">2</td></tr><tr><td class = \"rowNumber\" style = \"font-weight: bold; text-align: right;\">996</td><td style = \"text-align: right;\">-85</td><td style = \"text-align: right;\">-81</td><td style = \"text-align: right;\">2</td></tr><tr><td class = \"rowNumber\" style = \"font-weight: bold; text-align: right;\">997</td><td style = \"text-align: right;\">-63</td><td style = \"text-align: right;\">-77</td><td style = \"text-align: right;\">2</td></tr><tr><td class = \"rowNumber\" style = \"font-weight: bold; text-align: right;\">998</td><td style = \"text-align: right;\">-64</td><td style = \"text-align: right;\">-76</td><td style = \"text-align: right;\">2</td></tr><tr><td class = \"rowNumber\" style = \"font-weight: bold; text-align: right;\">999</td><td style = \"text-align: right;\">-65</td><td style = \"text-align: right;\">-77</td><td style = \"text-align: right;\">2</td></tr><tr><td class = \"rowNumber\" style = \"font-weight: bold; text-align: right;\">1000</td><td style = \"text-align: right;\">-69</td><td style = \"text-align: right;\">-77</td><td style = \"text-align: right;\">2</td></tr></tbody></table></div>"
      ],
      "text/latex": [
       "\\begin{tabular}{r|ccc}\n",
       "\t& w5 & w7 & room\\\\\n",
       "\t\\hline\n",
       "\t& Int64 & Int64 & Int64\\\\\n",
       "\t\\hline\n",
       "\t1 & -71 & -81 & 1 \\\\\n",
       "\t2 & -71 & -85 & 1 \\\\\n",
       "\t3 & -76 & -84 & 1 \\\\\n",
       "\t4 & -77 & -80 & 1 \\\\\n",
       "\t5 & -77 & -87 & 1 \\\\\n",
       "\t6 & -76 & -83 & 1 \\\\\n",
       "\t7 & -69 & -84 & 1 \\\\\n",
       "\t8 & -74 & -82 & 1 \\\\\n",
       "\t9 & -76 & -82 & 1 \\\\\n",
       "\t10 & -80 & -91 & 1 \\\\\n",
       "\t11 & -77 & -91 & 1 \\\\\n",
       "\t12 & -72 & -81 & 1 \\\\\n",
       "\t13 & -73 & -84 & 1 \\\\\n",
       "\t14 & -70 & -83 & 1 \\\\\n",
       "\t15 & -74 & -87 & 1 \\\\\n",
       "\t16 & -71 & -91 & 1 \\\\\n",
       "\t17 & -70 & -91 & 1 \\\\\n",
       "\t18 & -73 & -84 & 1 \\\\\n",
       "\t19 & -73 & -88 & 1 \\\\\n",
       "\t20 & -70 & -84 & 1 \\\\\n",
       "\t21 & -72 & -90 & 1 \\\\\n",
       "\t22 & -68 & -85 & 1 \\\\\n",
       "\t23 & -72 & -89 & 1 \\\\\n",
       "\t24 & -75 & -87 & 1 \\\\\n",
       "\t25 & -79 & -89 & 1 \\\\\n",
       "\t26 & -68 & -83 & 1 \\\\\n",
       "\t27 & -77 & -89 & 1 \\\\\n",
       "\t28 & -78 & -85 & 1 \\\\\n",
       "\t29 & -75 & -87 & 1 \\\\\n",
       "\t30 & -77 & -85 & 1 \\\\\n",
       "\t$\\dots$ & $\\dots$ & $\\dots$ & $\\dots$ \\\\\n",
       "\\end{tabular}\n"
      ],
      "text/plain": [
       "\u001b[1m1000×3 DataFrame\u001b[0m\n",
       "\u001b[1m  Row \u001b[0m│\u001b[1m w5    \u001b[0m\u001b[1m w7    \u001b[0m\u001b[1m room  \u001b[0m\n",
       "      │\u001b[90m Int64 \u001b[0m\u001b[90m Int64 \u001b[0m\u001b[90m Int64 \u001b[0m\n",
       "──────┼─────────────────────\n",
       "    1 │   -71    -81      1\n",
       "    2 │   -71    -85      1\n",
       "    3 │   -76    -84      1\n",
       "    4 │   -77    -80      1\n",
       "    5 │   -77    -87      1\n",
       "    6 │   -76    -83      1\n",
       "    7 │   -69    -84      1\n",
       "    8 │   -74    -82      1\n",
       "    9 │   -76    -82      1\n",
       "   10 │   -80    -91      1\n",
       "   11 │   -77    -91      1\n",
       "  ⋮   │   ⋮      ⋮      ⋮\n",
       "  991 │   -73    -74      2\n",
       "  992 │   -64    -73      2\n",
       "  993 │   -68    -74      2\n",
       "  994 │   -71    -79      2\n",
       "  995 │   -71    -79      2\n",
       "  996 │   -85    -81      2\n",
       "  997 │   -63    -77      2\n",
       "  998 │   -64    -76      2\n",
       "  999 │   -65    -77      2\n",
       " 1000 │   -69    -77      2\n",
       "\u001b[36m            979 rows omitted\u001b[0m"
      ]
     },
     "execution_count": 1,
     "metadata": {},
     "output_type": "execute_result"
    }
   ],
   "source": [
    "using CSV, DataFrames, MarkdownTables\n",
    "\n",
    "wifi = CSV.read(\n",
    "    \"../src/data/wifi.tsv\",\n",
    "    DataFrame,\n",
    "    header=[\"w1\", \"w2\", \"w3\", \"w4\", \"w5\", \"w6\", \"w7\", \"room\"]\n",
    ")\n",
    "wifi = wifi[(wifi.room .== 1) .| (wifi.room .== 2), [:w5, :w7, :room]]\n"
   ]
  },
  {
   "cell_type": "code",
   "execution_count": 3,
   "metadata": {},
   "outputs": [
    {
     "data": {
      "text/plain": [
       "knn (generic function with 1 method)"
      ]
     },
     "execution_count": 3,
     "metadata": {},
     "output_type": "execute_result"
    }
   ],
   "source": [
    "distance(v1, v2) = sqrt(sum((v1 - v2).^2))\n",
    "\n",
    "struct Point\n",
    "    xn::Vector{Float64}\n",
    "    label::String\n",
    "end\n",
    "\n",
    "function knn(X::Array{Point}, v::Vector{Float64}, k::Int)\n",
    "    ds = [distance(x.xn, v) for x in X]\n",
    "    return X[sortperm(ds)[1:k]]\n",
    "end"
   ]
  },
  {
   "cell_type": "code",
   "execution_count": 4,
   "metadata": {},
   "outputs": [
    {
     "name": "stdout",
     "output_type": "stream",
     "text": [
      "Accuracy: 96.0%\n"
     ]
    }
   ],
   "source": [
    "X = [\n",
    "    Point(collect(row[[:w5, :w7]]), string(row[:room]))\n",
    "    for row in eachrow(wifi)\n",
    "]\n",
    "\n",
    "using MLUtils\n",
    "\n",
    "X_test, X_train = splitobs(X, at=0.15)\n",
    "X_train = collect(X_train)\n",
    "X_test = collect(X_test)\n",
    "\n",
    "\"Return the element that occurs most frequently in an array\"\n",
    "function majority(items::Vector{T})::T where T\n",
    "    c = Dict{T, Int}()\n",
    "    for it in items\n",
    "        if !haskey(c, it)\n",
    "            c[it] = 1\n",
    "        else\n",
    "            c[it] += 1\n",
    "        end\n",
    "    end\n",
    "    return sort(collect(c), by=x->x[2], rev=true)[1][1]\n",
    "end\n",
    "\n",
    "# Compute the accuracy score\n",
    "total = 0\n",
    "correct = 0\n",
    "\n",
    "for p in X_test\n",
    "    neighbors = knn(X_train, p.xn, 7)\n",
    "    label = majority([x.label for x in neighbors])\n",
    "    if label == p.label\n",
    "        correct += 1\n",
    "    end\n",
    "    total += 1\n",
    "end\n",
    "\n",
    "println(\"Accuracy: $(correct / total * 100.0)%\")"
   ]
  },
  {
   "cell_type": "code",
   "execution_count": 5,
   "metadata": {},
   "outputs": [
    {
     "data": {
      "application/vnd.webio.node+json": {
       "children": [],
       "instanceArgs": {
        "namespace": "html",
        "tag": "div"
       },
       "nodeType": "DOM",
       "props": {},
       "type": "node"
      },
      "text/html": [
       "<div style=\"padding: 1em; background-color: #f8d6da; border: 1px solid #f5c6cb; font-weight: bold;\">\n",
       "<p>The WebIO Jupyter extension was not detected. See the\n",
       "<a href=\"https://juliagizmos.github.io/WebIO.jl/latest/providers/ijulia/\" target=\"_blank\">\n",
       "    WebIO Jupyter integration documentation\n",
       "</a>\n",
       "for more information.\n",
       "</div>\n"
      ],
      "text/plain": [
       "WebIO._IJuliaInit()"
      ]
     },
     "metadata": {},
     "output_type": "display_data"
    },
    {
     "name": "stderr",
     "output_type": "stream",
     "text": [
      "\u001b[33m\u001b[1m┌ \u001b[22m\u001b[39m\u001b[33m\u001b[1mWarning: \u001b[22m\u001b[39mattempting to remove probably stale pidfile\n",
      "\u001b[33m\u001b[1m│ \u001b[22m\u001b[39m  path = \"/Users/vikasprasad/.jlassetregistry.lock\"\n",
      "\u001b[33m\u001b[1m└ \u001b[22m\u001b[39m\u001b[90m@ Pidfile ~/.julia/packages/Pidfile/DDu3M/src/Pidfile.jl:260\u001b[39m\n"
     ]
    },
    {
     "data": {
      "application/vnd.plotly.v1+json": {
       "config": {
        "displayModeBar": null,
        "displaylogo": null,
        "doubleClickDelay": null,
        "editable": false,
        "linkText": null,
        "locale": null,
        "modeBarButtons": null,
        "modeBarButtonsToAdd": null,
        "modeBarButtonsToRemove": null,
        "plotlyServerURL": null,
        "responsive": true,
        "scrollZoom": true,
        "showEditInChartStudio": null,
        "showLink": false,
        "staticPlot": false,
        "toImageButtonOptions": null
       },
       "data": [
        {
         "fields": {
          "mode": "markers",
          "type": "scatter",
          "x": [
           -74,
           -68,
           -64,
           -62,
           -66,
           -72,
           -63,
           -63,
           -61,
           -67,
           -67,
           -73,
           -70,
           -70,
           -74,
           -69,
           -68,
           -73,
           -67,
           -64,
           -67,
           -67,
           -68,
           -68,
           -62,
           -75,
           -75,
           -72,
           -62,
           -73,
           -70,
           -67,
           -73,
           -80,
           -73,
           -71,
           -66,
           -64,
           -72,
           -68,
           -67,
           -69,
           -68,
           -68,
           -69,
           -70,
           -74,
           -80,
           -74,
           -62,
           -74,
           -70,
           -64,
           -64,
           -65,
           -72,
           -71,
           -66,
           -68,
           -74,
           -70,
           -68,
           -68,
           -69,
           -74,
           -65,
           -66,
           -68,
           -70,
           -67,
           -67,
           -75,
           -72,
           -65,
           -65,
           -71,
           -70,
           -68,
           -73,
           -73,
           -73,
           -72,
           -73,
           -64,
           -74,
           -75,
           -75,
           -67,
           -68,
           -74,
           -65,
           -73,
           -73,
           -71,
           -71,
           -70,
           -62,
           -65,
           -69,
           -70,
           -66,
           -67,
           -64,
           -69,
           -69,
           -67,
           -67,
           -66,
           -68,
           -66,
           -73,
           -74,
           -74,
           -72,
           -75,
           -68,
           -65,
           -66,
           -74,
           -73,
           -75,
           -75,
           -69,
           -66,
           -66,
           -66,
           -69,
           -68,
           -68,
           -67,
           -68,
           -69,
           -68,
           -71,
           -76,
           -68,
           -69,
           -69,
           -69,
           -68,
           -64,
           -65,
           -62,
           -62,
           -64,
           -66,
           -66,
           -67,
           -67,
           -68,
           -72,
           -65,
           -65,
           -64,
           -60,
           -63,
           -63,
           -65,
           -63,
           -64,
           -68,
           -65,
           -69,
           -72,
           -66,
           -68,
           -73,
           -70,
           -71,
           -68,
           -67,
           -71,
           -69,
           -66,
           -73,
           -65,
           -65,
           -69,
           -67,
           -67,
           -68,
           -69,
           -64,
           -65,
           -68,
           -66,
           -69,
           -68,
           -63,
           -61,
           -68,
           -67,
           -68,
           -64,
           -66,
           -68,
           -66,
           -66,
           -66,
           -66,
           -69,
           -66,
           -66,
           -71,
           -65,
           -68,
           -65,
           -71,
           -66,
           -70,
           -69,
           -71,
           -66,
           -67,
           -69,
           -69,
           -66,
           -67,
           -64,
           -67,
           -68,
           -71,
           -71,
           -69,
           -69,
           -65,
           -67,
           -69,
           -65,
           -64,
           -65,
           -68,
           -71,
           -69,
           -70,
           -69,
           -69,
           -66,
           -68,
           -65,
           -66,
           -69,
           -66,
           -68,
           -65,
           -69,
           -67,
           -68,
           -72,
           -72,
           -70,
           -68,
           -66,
           -68,
           -68,
           -67,
           -65,
           -66,
           -69,
           -68,
           -66,
           -67,
           -71,
           -75,
           -67,
           -66,
           -66,
           -66,
           -70,
           -69,
           -68,
           -68,
           -68,
           -69,
           -69,
           -71,
           -70,
           -72,
           -72,
           -69,
           -69,
           -70,
           -69,
           -76,
           -73,
           -75,
           -76,
           -75,
           -77,
           -74,
           -75,
           -69,
           -68,
           -69,
           -67,
           -74,
           -75,
           -74,
           -76,
           -75,
           -75,
           -75,
           -76,
           -76,
           -75,
           -75,
           -74,
           -75,
           -74,
           -74,
           -75,
           -73,
           -74,
           -73,
           -73,
           -74,
           -74,
           -74,
           -68,
           -75,
           -73,
           -75,
           -74,
           -73,
           -70,
           -66,
           -65,
           -70,
           -64,
           -65,
           -67,
           -63,
           -64,
           -73,
           -64,
           -73,
           -60,
           -64,
           -66,
           -64,
           -66,
           -66,
           -66,
           -72,
           -70,
           -68,
           -74,
           -67,
           -62,
           -65,
           -66,
           -66,
           -73,
           -70,
           -72,
           -56,
           -64,
           -69,
           -71,
           -68,
           -73,
           -75,
           -73,
           -67,
           -76,
           -69,
           -72,
           -72,
           -66,
           -64,
           -74,
           -69,
           -69,
           -67,
           -71,
           -65,
           -67,
           -65,
           -72,
           -74,
           -68,
           -73,
           -74,
           -71,
           -73,
           -72,
           -72,
           -73,
           -69,
           -71,
           -68,
           -76,
           -71,
           -64,
           -63,
           -65,
           -63,
           -63,
           -66,
           -66,
           -71,
           -66,
           -59,
           -65,
           -66,
           -69,
           -71,
           -71,
           -68,
           -64,
           -62,
           -78,
           -68,
           -71,
           -69,
           -77,
           -73,
           -66,
           -70,
           -69,
           -71,
           -58,
           -63,
           -68,
           -67,
           -67,
           -65,
           -61,
           -60,
           -61,
           -68,
           -68,
           -68,
           -65,
           -65,
           -65,
           -67,
           -64,
           -69,
           -71,
           -60,
           -66,
           -64,
           -66,
           -70,
           -67,
           -75,
           -73,
           -61,
           -61,
           -63,
           -65,
           -68,
           -79,
           -79,
           -74,
           -70,
           -74,
           -69,
           -86,
           -62,
           -73,
           -71,
           -75,
           -77,
           -74,
           -74,
           -80,
           -80,
           -75,
           -75,
           -75,
           -73,
           -75,
           -75,
           -84,
           -68,
           -70,
           -70,
           -64,
           -61,
           -75,
           -71,
           -63,
           -66,
           -62,
           -62,
           -78,
           -75,
           -74,
           -77,
           -77,
           -76,
           -71,
           -73,
           -71,
           -82,
           -82,
           -74,
           -81,
           -74,
           -70,
           -80,
           -72,
           -71,
           -74,
           -71,
           -63,
           -68,
           -64,
           -64,
           -71,
           -74,
           -73,
           -72,
           -72,
           -72,
           -72,
           -72,
           -64,
           -71,
           -75,
           -65,
           -67,
           -70,
           -74,
           -73,
           -67,
           -68,
           -75,
           -65,
           -69,
           -69,
           -64,
           -73,
           -61,
           -66,
           -66,
           -68,
           -66,
           -71,
           -67,
           -61,
           -63,
           -72,
           -65,
           -67,
           -65,
           -64,
           -62,
           -62,
           -65,
           -65,
           -63,
           -63,
           -69,
           -65,
           -65,
           -66,
           -67,
           -80,
           -63,
           -73,
           -71,
           -64,
           -64,
           -63,
           -74,
           -62,
           -62,
           -63,
           -64,
           -64,
           -64,
           -61,
           -71,
           -62,
           -64,
           -61,
           -62,
           -60,
           -60,
           -62,
           -70,
           -63,
           -62,
           -72,
           -69,
           -69,
           -63,
           -60,
           -63,
           -69,
           -63,
           -63,
           -61,
           -64,
           -62,
           -63,
           -66,
           -68,
           -67,
           -62,
           -63,
           -66,
           -75,
           -64,
           -75,
           -73,
           -64,
           -71,
           -64,
           -64,
           -64,
           -63,
           -64,
           -66,
           -74,
           -69,
           -73,
           -67,
           -67,
           -71,
           -64,
           -70,
           -65,
           -70,
           -71,
           -62,
           -65,
           -72,
           -72,
           -65,
           -62,
           -62,
           -64,
           -72,
           -58,
           -68,
           -57,
           -66,
           -71,
           -71,
           -65,
           -65,
           -69,
           -70,
           -70,
           -70,
           -71,
           -73,
           -73,
           -67,
           -66,
           -69,
           -71,
           -62,
           -62,
           -69,
           -67,
           -67,
           -67,
           -66,
           -71,
           -65,
           -58,
           -60,
           -76,
           -66,
           -63,
           -60,
           -69,
           -73,
           -69,
           -74,
           -67,
           -64,
           -68,
           -68,
           -70,
           -75,
           -72,
           -60,
           -61,
           -59,
           -62,
           -59,
           -61,
           -61,
           -60,
           -60,
           -61,
           -61,
           -63,
           -61,
           -61,
           -64,
           -65,
           -65,
           -66,
           -62,
           -62,
           -61,
           -80,
           -80,
           -80,
           -68,
           -71,
           -77,
           -70,
           -66,
           -71,
           -61,
           -66,
           -60,
           -56,
           -67,
           -62,
           -71,
           -70,
           -70,
           -70,
           -70,
           -73,
           -70,
           -66,
           -62,
           -63,
           -61,
           -71,
           -60,
           -66,
           -60,
           -62,
           -64,
           -63,
           -58,
           -59,
           -63,
           -70,
           -67,
           -64,
           -65,
           -61,
           -63,
           -69,
           -62,
           -64,
           -61,
           -66,
           -60,
           -59,
           -61,
           -63,
           -63,
           -63,
           -64,
           -67,
           -60,
           -63,
           -70,
           -67,
           -70,
           -74,
           -76,
           -76,
           -59,
           -71,
           -69,
           -67,
           -62,
           -64,
           -74,
           -75,
           -69,
           -69,
           -62,
           -69,
           -65,
           -65,
           -71,
           -68,
           -70,
           -70,
           -61,
           -64,
           -66,
           -66,
           -70,
           -69,
           -63,
           -68,
           -67,
           -78,
           -78,
           -78,
           -70,
           -68,
           -68,
           -64,
           -64,
           -71,
           -71,
           -75,
           -64,
           -65,
           -69,
           -69,
           -69,
           -65,
           -66,
           -67,
           -66,
           -70,
           -63,
           -63,
           -67,
           -69,
           -63,
           -74,
           -61,
           -61,
           -61,
           -60,
           -68,
           -65,
           -63,
           -75,
           -68,
           -76,
           -71,
           -71,
           -68,
           -63,
           -63,
           -69,
           -64,
           -64,
           -58,
           -61,
           -73,
           -64,
           -68,
           -71,
           -71,
           -85,
           -63,
           -64,
           -65,
           -69
          ],
          "y": [
           -87,
           -83,
           -83,
           -77,
           -80,
           -79,
           -80,
           -80,
           -85,
           -85,
           -80,
           -82,
           -90,
           -87,
           -81,
           -88,
           -88,
           -83,
           -88,
           -81,
           -80,
           -88,
           -82,
           -81,
           -84,
           -82,
           -81,
           -81,
           -83,
           -81,
           -77,
           -83,
           -81,
           -78,
           -81,
           -83,
           -78,
           -81,
           -81,
           -80,
           -87,
           -91,
           -87,
           -87,
           -86,
           -87,
           -83,
           -88,
           -80,
           -79,
           -82,
           -74,
           -80,
           -85,
           -80,
           -84,
           -82,
           -80,
           -76,
           -76,
           -88,
           -86,
           -82,
           -89,
           -84,
           -81,
           -88,
           -84,
           -80,
           -80,
           -80,
           -81,
           -87,
           -86,
           -82,
           -87,
           -79,
           -81,
           -90,
           -78,
           -87,
           -81,
           -82,
           -77,
           -79,
           -78,
           -78,
           -84,
           -86,
           -85,
           -94,
           -88,
           -85,
           -79,
           -86,
           -84,
           -79,
           -80,
           -83,
           -86,
           -85,
           -79,
           -78,
           -80,
           -77,
           -77,
           -77,
           -78,
           -85,
           -80,
           -84,
           -81,
           -82,
           -82,
           -76,
           -81,
           -78,
           -90,
           -90,
           -91,
           -80,
           -83,
           -80,
           -81,
           -88,
           -86,
           -87,
           -88,
           -88,
           -87,
           -89,
           -88,
           -83,
           -83,
           -78,
           -82,
           -80,
           -79,
           -81,
           -83,
           -81,
           -80,
           -81,
           -82,
           -81,
           -85,
           -77,
           -82,
           -84,
           -85,
           -82,
           -81,
           -79,
           -82,
           -83,
           -87,
           -81,
           -85,
           -80,
           -84,
           -81,
           -82,
           -82,
           -78,
           -80,
           -81,
           -82,
           -82,
           -82,
           -80,
           -81,
           -82,
           -86,
           -84,
           -82,
           -81,
           -81,
           -84,
           -85,
           -85,
           -87,
           -78,
           -83,
           -83,
           -81,
           -83,
           -80,
           -81,
           -81,
           -87,
           -86,
           -79,
           -89,
           -82,
           -88,
           -76,
           -83,
           -85,
           -90,
           -83,
           -89,
           -87,
           -88,
           -87,
           -87,
           -83,
           -78,
           -80,
           -89,
           -86,
           -86,
           -87,
           -87,
           -87,
           -83,
           -83,
           -83,
           -88,
           -79,
           -78,
           -74,
           -82,
           -87,
           -85,
           -84,
           -87,
           -83,
           -88,
           -91,
           -91,
           -83,
           -83,
           -86,
           -84,
           -83,
           -84,
           -90,
           -83,
           -84,
           -83,
           -82,
           -81,
           -87,
           -90,
           -82,
           -83,
           -78,
           -84,
           -84,
           -88,
           -80,
           -82,
           -82,
           -87,
           -87,
           -77,
           -89,
           -87,
           -85,
           -81,
           -81,
           -78,
           -85,
           -86,
           -96,
           -87,
           -84,
           -81,
           -81,
           -83,
           -83,
           -82,
           -83,
           -87,
           -86,
           -88,
           -88,
           -86,
           -86,
           -86,
           -81,
           -85,
           -84,
           -85,
           -87,
           -83,
           -86,
           -87,
           -83,
           -85,
           -84,
           -86,
           -81,
           -86,
           -82,
           -82,
           -80,
           -83,
           -82,
           -81,
           -83,
           -82,
           -82,
           -81,
           -83,
           -83,
           -82,
           -82,
           -84,
           -85,
           -87,
           -87,
           -93,
           -93,
           -90,
           -89,
           -90,
           -88,
           -88,
           -83,
           -86,
           -81,
           -81,
           -85,
           -85,
           -80,
           -78,
           -80,
           -81,
           -84,
           -79,
           -77,
           -78,
           -81,
           -81,
           -80,
           -77,
           -81,
           -86,
           -81,
           -80,
           -81,
           -82,
           -81,
           -79,
           -79,
           -82,
           -76,
           -79,
           -79,
           -69,
           -68,
           -73,
           -73,
           -73,
           -68,
           -77,
           -73,
           -73,
           -66,
           -66,
           -74,
           -66,
           -71,
           -68,
           -71,
           -70,
           -66,
           -73,
           -76,
           -66,
           -70,
           -72,
           -71,
           -70,
           -74,
           -71,
           -74,
           -73,
           -73,
           -77,
           -80,
           -77,
           -79,
           -78,
           -77,
           -79,
           -80,
           -78,
           -71,
           -90,
           -74,
           -74,
           -72,
           -71,
           -76,
           -71,
           -70,
           -75,
           -71,
           -75,
           -69,
           -71,
           -72,
           -75,
           -78,
           -76,
           -76,
           -77,
           -80,
           -75,
           -75,
           -75,
           -78,
           -78,
           -80,
           -92,
           -79,
           -80,
           -78,
           -79,
           -80,
           -87,
           -81,
           -82,
           -82,
           -76,
           -67,
           -67,
           -83,
           -73,
           -74,
           -74,
           -71,
           -80,
           -75,
           -76,
           -79,
           -72,
           -74,
           -74,
           -67,
           -76,
           -72,
           -71,
           -73,
           -73,
           -66,
           -72,
           -73,
           -75,
           -73,
           -75,
           -72,
           -72,
           -74,
           -73,
           -70,
           -74,
           -74,
           -79,
           -79,
           -67,
           -75,
           -68,
           -70,
           -64,
           -72,
           -65,
           -64,
           -67,
           -68,
           -67,
           -66,
           -70,
           -66,
           -77,
           -75,
           -85,
           -76,
           -79,
           -81,
           -78,
           -73,
           -74,
           -76,
           -76,
           -81,
           -89,
           -77,
           -78,
           -81,
           -80,
           -79,
           -80,
           -78,
           -78,
           -78,
           -78,
           -75,
           -79,
           -80,
           -76,
           -79,
           -77,
           -80,
           -79,
           -78,
           -78,
           -78,
           -75,
           -73,
           -75,
           -76,
           -78,
           -80,
           -79,
           -80,
           -79,
           -73,
           -78,
           -78,
           -70,
           -74,
           -75,
           -80,
           -79,
           -79,
           -79,
           -74,
           -77,
           -75,
           -73,
           -73,
           -71,
           -79,
           -69,
           -69,
           -71,
           -75,
           -72,
           -68,
           -74,
           -77,
           -70,
           -68,
           -71,
           -70,
           -67,
           -65,
           -67,
           -68,
           -70,
           -67,
           -74,
           -76,
           -76,
           -70,
           -75,
           -75,
           -63,
           -64,
           -66,
           -64,
           -65,
           -65,
           -64,
           -65,
           -65,
           -65,
           -64,
           -65,
           -64,
           -66,
           -66,
           -65,
           -65,
           -73,
           -71,
           -76,
           -72,
           -72,
           -72,
           -70,
           -68,
           -64,
           -64,
           -69,
           -78,
           -78,
           -70,
           -71,
           -66,
           -68,
           -70,
           -71,
           -70,
           -70,
           -71,
           -69,
           -70,
           -70,
           -71,
           -76,
           -70,
           -67,
           -71,
           -64,
           -65,
           -69,
           -71,
           -66,
           -79,
           -71,
           -75,
           -76,
           -71,
           -71,
           -71,
           -72,
           -72,
           -74,
           -74,
           -76,
           -73,
           -72,
           -73,
           -82,
           -71,
           -72,
           -66,
           -75,
           -72,
           -67,
           -71,
           -73,
           -73,
           -72,
           -72,
           -77,
           -75,
           -77,
           -73,
           -79,
           -79,
           -85,
           -80,
           -78,
           -74,
           -74,
           -75,
           -74,
           -74,
           -73,
           -77,
           -77,
           -73,
           -85,
           -84,
           -84,
           -83,
           -79,
           -72,
           -75,
           -73,
           -75,
           -69,
           -80,
           -80,
           -78,
           -77,
           -69,
           -72,
           -77,
           -77,
           -77,
           -76,
           -77,
           -72,
           -69,
           -69,
           -67,
           -72,
           -74,
           -70,
           -70,
           -69,
           -70,
           -69,
           -80,
           -76,
           -76,
           -80,
           -77,
           -71,
           -80,
           -70,
           -70,
           -69,
           -69,
           -71,
           -73,
           -70,
           -70,
           -72,
           -69,
           -69,
           -70,
           -72,
           -74,
           -77,
           -71,
           -79,
           -74,
           -75,
           -72,
           -69,
           -70,
           -74,
           -73,
           -73,
           -75,
           -79,
           -74,
           -77,
           -69,
           -85,
           -70,
           -70,
           -74,
           -75,
           -76,
           -76,
           -77,
           -77,
           -73,
           -77,
           -83,
           -75,
           -75,
           -71,
           -82,
           -74,
           -76,
           -72,
           -79,
           -77,
           -78,
           -71,
           -76,
           -74,
           -72,
           -75,
           -78,
           -73,
           -66,
           -78,
           -66,
           -75,
           -79,
           -64,
           -73,
           -74,
           -69,
           -69,
           -66,
           -75,
           -71,
           -69,
           -72,
           -73,
           -66,
           -79,
           -64,
           -73,
           -72,
           -73,
           -78,
           -72,
           -69,
           -68,
           -72,
           -71,
           -75,
           -79,
           -74,
           -75,
           -75,
           -72,
           -77,
           -77,
           -77,
           -76,
           -77,
           -76,
           -77,
           -76,
           -76,
           -72,
           -69,
           -66,
           -71,
           -72,
           -70,
           -71,
           -70,
           -84,
           -70,
           -72,
           -72,
           -71,
           -78,
           -74,
           -72,
           -76,
           -73,
           -70,
           -70,
           -70,
           -78,
           -67,
           -73,
           -73,
           -67,
           -74,
           -69,
           -69,
           -70,
           -73,
           -69,
           -64,
           -75,
           -75,
           -79,
           -89,
           -71,
           -74,
           -70,
           -70,
           -74,
           -74,
           -73,
           -74,
           -79,
           -79,
           -81,
           -77,
           -76,
           -77,
           -77
          ]
         }
        }
       ],
       "divid": {
        "value": 2.2295111160530095e+38
       },
       "frames": [],
       "layout": {
        "fields": {
         "margin": {
          "b": 50,
          "l": 50,
          "r": 50,
          "t": 60
         },
         "template": {
          "data": {
           "bar": [
            {
             "fields": {
              "error_x": {
               "color": "#2a3f5f"
              },
              "error_y": {
               "color": "#2a3f5f"
              },
              "marker": {
               "line": {
                "color": "#E5ECF6",
                "width": 0.5
               }
              },
              "type": "bar"
             }
            }
           ],
           "barpolar": [
            {
             "fields": {
              "marker": {
               "line": {
                "color": "#E5ECF6",
                "width": 0.5
               }
              },
              "type": "barpolar"
             }
            }
           ],
           "carpet": [
            {
             "fields": {
              "aaxis": {
               "endlinecolor": "#2a3f5f",
               "gridcolor": "white",
               "linecolor": "white",
               "minorgridcolor": "white",
               "startlinecolor": "#2a3f5f"
              },
              "baxis": {
               "endlinecolor": "#2a3f5f",
               "gridcolor": "white",
               "linecolor": "white",
               "minorgridcolor": "white",
               "startlinecolor": "#2a3f5f"
              },
              "type": "carpet"
             }
            }
           ],
           "choropleth": [
            {
             "fields": {
              "colorbar": {
               "outlinewidth": 0,
               "ticks": ""
              },
              "type": "choropleth"
             }
            }
           ],
           "contour": [
            {
             "fields": {
              "colorbar": {
               "outlinewidth": 0,
               "ticks": ""
              },
              "colorscale": [
               [
                0,
                "#0d0887"
               ],
               [
                0.1111111111111111,
                "#46039f"
               ],
               [
                0.2222222222222222,
                "#7201a8"
               ],
               [
                0.3333333333333333,
                "#9c179e"
               ],
               [
                0.4444444444444444,
                "#bd3786"
               ],
               [
                0.5555555555555556,
                "#d8576b"
               ],
               [
                0.6666666666666666,
                "#ed7953"
               ],
               [
                0.7777777777777778,
                "#fb9f3a"
               ],
               [
                0.8888888888888888,
                "#fdca26"
               ],
               [
                1,
                "#f0f921"
               ]
              ],
              "type": "contour"
             }
            }
           ],
           "contourcarpet": [
            {
             "fields": {
              "colorbar": {
               "outlinewidth": 0,
               "ticks": ""
              },
              "type": "contourcarpet"
             }
            }
           ],
           "heatmap": [
            {
             "fields": {
              "colorbar": {
               "outlinewidth": 0,
               "ticks": ""
              },
              "colorscale": [
               [
                0,
                "#0d0887"
               ],
               [
                0.1111111111111111,
                "#46039f"
               ],
               [
                0.2222222222222222,
                "#7201a8"
               ],
               [
                0.3333333333333333,
                "#9c179e"
               ],
               [
                0.4444444444444444,
                "#bd3786"
               ],
               [
                0.5555555555555556,
                "#d8576b"
               ],
               [
                0.6666666666666666,
                "#ed7953"
               ],
               [
                0.7777777777777778,
                "#fb9f3a"
               ],
               [
                0.8888888888888888,
                "#fdca26"
               ],
               [
                1,
                "#f0f921"
               ]
              ],
              "type": "heatmap"
             }
            }
           ],
           "heatmapgl": [
            {
             "fields": {
              "colorbar": {
               "outlinewidth": 0,
               "ticks": ""
              },
              "colorscale": [
               [
                0,
                "#0d0887"
               ],
               [
                0.1111111111111111,
                "#46039f"
               ],
               [
                0.2222222222222222,
                "#7201a8"
               ],
               [
                0.3333333333333333,
                "#9c179e"
               ],
               [
                0.4444444444444444,
                "#bd3786"
               ],
               [
                0.5555555555555556,
                "#d8576b"
               ],
               [
                0.6666666666666666,
                "#ed7953"
               ],
               [
                0.7777777777777778,
                "#fb9f3a"
               ],
               [
                0.8888888888888888,
                "#fdca26"
               ],
               [
                1,
                "#f0f921"
               ]
              ],
              "type": "heatmapgl"
             }
            }
           ],
           "histogram": [
            {
             "fields": {
              "marker": {
               "colorbar": {
                "outlinewidth": 0,
                "ticks": ""
               }
              },
              "type": "histogram"
             }
            }
           ],
           "histogram2d": [
            {
             "fields": {
              "colorbar": {
               "outlinewidth": 0,
               "ticks": ""
              },
              "colorscale": [
               [
                0,
                "#0d0887"
               ],
               [
                0.1111111111111111,
                "#46039f"
               ],
               [
                0.2222222222222222,
                "#7201a8"
               ],
               [
                0.3333333333333333,
                "#9c179e"
               ],
               [
                0.4444444444444444,
                "#bd3786"
               ],
               [
                0.5555555555555556,
                "#d8576b"
               ],
               [
                0.6666666666666666,
                "#ed7953"
               ],
               [
                0.7777777777777778,
                "#fb9f3a"
               ],
               [
                0.8888888888888888,
                "#fdca26"
               ],
               [
                1,
                "#f0f921"
               ]
              ],
              "type": "histogram2d"
             }
            }
           ],
           "histogram2dcontour": [
            {
             "fields": {
              "colorbar": {
               "outlinewidth": 0,
               "ticks": ""
              },
              "colorscale": [
               [
                0,
                "#0d0887"
               ],
               [
                0.1111111111111111,
                "#46039f"
               ],
               [
                0.2222222222222222,
                "#7201a8"
               ],
               [
                0.3333333333333333,
                "#9c179e"
               ],
               [
                0.4444444444444444,
                "#bd3786"
               ],
               [
                0.5555555555555556,
                "#d8576b"
               ],
               [
                0.6666666666666666,
                "#ed7953"
               ],
               [
                0.7777777777777778,
                "#fb9f3a"
               ],
               [
                0.8888888888888888,
                "#fdca26"
               ],
               [
                1,
                "#f0f921"
               ]
              ],
              "type": "histogram2dcontour"
             }
            }
           ],
           "mesh3d": [
            {
             "fields": {
              "colorbar": {
               "outlinewidth": 0,
               "ticks": ""
              },
              "type": "mesh3d"
             }
            }
           ],
           "parcoords": [
            {
             "fields": {
              "line": {
               "colorbar": {
                "outlinewidth": 0,
                "ticks": ""
               }
              },
              "type": "parcoords"
             }
            }
           ],
           "pie": [
            {
             "fields": {
              "automargin": true,
              "type": "pie"
             }
            }
           ],
           "scatter": [
            {
             "fields": {
              "marker": {
               "colorbar": {
                "outlinewidth": 0,
                "ticks": ""
               }
              },
              "type": "scatter"
             }
            }
           ],
           "scatter3d": [
            {
             "fields": {
              "line": {
               "colorbar": {
                "outlinewidth": 0,
                "ticks": ""
               }
              },
              "marker": {
               "colorbar": {
                "outlinewidth": 0,
                "ticks": ""
               }
              },
              "type": "scatter3d"
             }
            }
           ],
           "scattercarpet": [
            {
             "fields": {
              "marker": {
               "colorbar": {
                "outlinewidth": 0,
                "ticks": ""
               }
              },
              "type": "scattercarpet"
             }
            }
           ],
           "scattergeo": [
            {
             "fields": {
              "marker": {
               "colorbar": {
                "outlinewidth": 0,
                "ticks": ""
               }
              },
              "type": "scattergeo"
             }
            }
           ],
           "scattergl": [
            {
             "fields": {
              "marker": {
               "colorbar": {
                "outlinewidth": 0,
                "ticks": ""
               }
              },
              "type": "scattergl"
             }
            }
           ],
           "scattermapbox": [
            {
             "fields": {
              "marker": {
               "colorbar": {
                "outlinewidth": 0,
                "ticks": ""
               }
              },
              "type": "scattermapbox"
             }
            }
           ],
           "scatterpolar": [
            {
             "fields": {
              "marker": {
               "colorbar": {
                "outlinewidth": 0,
                "ticks": ""
               }
              },
              "type": "scatterpolar"
             }
            }
           ],
           "scatterpolargl": [
            {
             "fields": {
              "marker": {
               "colorbar": {
                "outlinewidth": 0,
                "ticks": ""
               }
              },
              "type": "scatterpolargl"
             }
            }
           ],
           "scatterternary": [
            {
             "fields": {
              "marker": {
               "colorbar": {
                "outlinewidth": 0,
                "ticks": ""
               }
              },
              "type": "scatterternary"
             }
            }
           ],
           "surface": [
            {
             "fields": {
              "colorbar": {
               "outlinewidth": 0,
               "ticks": ""
              },
              "colorscale": [
               [
                0,
                "#0d0887"
               ],
               [
                0.1111111111111111,
                "#46039f"
               ],
               [
                0.2222222222222222,
                "#7201a8"
               ],
               [
                0.3333333333333333,
                "#9c179e"
               ],
               [
                0.4444444444444444,
                "#bd3786"
               ],
               [
                0.5555555555555556,
                "#d8576b"
               ],
               [
                0.6666666666666666,
                "#ed7953"
               ],
               [
                0.7777777777777778,
                "#fb9f3a"
               ],
               [
                0.8888888888888888,
                "#fdca26"
               ],
               [
                1,
                "#f0f921"
               ]
              ],
              "type": "surface"
             }
            }
           ],
           "table": [
            {
             "fields": {
              "cells": {
               "fill": {
                "color": "#EBF0F8"
               },
               "line": {
                "color": "white"
               }
              },
              "header": {
               "fill": {
                "color": "#C8D4E3"
               },
               "line": {
                "color": "white"
               }
              },
              "type": "table"
             }
            }
           ]
          },
          "layout": {
           "fields": {
            "annotationdefaults": {
             "arrowcolor": "#2a3f5f",
             "arrowhead": 0,
             "arrowwidth": 1
            },
            "autotypenumbers": "strict",
            "coloraxis": {
             "colorbar": {
              "outlinewidth": 0,
              "ticks": ""
             }
            },
            "colorscale": {
             "diverging": [
              [
               0,
               "#8e0152"
              ],
              [
               0.1,
               "#c51b7d"
              ],
              [
               0.2,
               "#de77ae"
              ],
              [
               0.3,
               "#f1b6da"
              ],
              [
               0.4,
               "#fde0ef"
              ],
              [
               0.5,
               "#f7f7f7"
              ],
              [
               0.6,
               "#e6f5d0"
              ],
              [
               0.7,
               "#b8e186"
              ],
              [
               0.8,
               "#7fbc41"
              ],
              [
               0.9,
               "#4d9221"
              ],
              [
               1,
               "#276419"
              ]
             ],
             "sequential": [
              [
               0,
               "#0d0887"
              ],
              [
               0.1111111111111111,
               "#46039f"
              ],
              [
               0.2222222222222222,
               "#7201a8"
              ],
              [
               0.3333333333333333,
               "#9c179e"
              ],
              [
               0.4444444444444444,
               "#bd3786"
              ],
              [
               0.5555555555555556,
               "#d8576b"
              ],
              [
               0.6666666666666666,
               "#ed7953"
              ],
              [
               0.7777777777777778,
               "#fb9f3a"
              ],
              [
               0.8888888888888888,
               "#fdca26"
              ],
              [
               1,
               "#f0f921"
              ]
             ],
             "sequentialminus": [
              [
               0,
               "#0d0887"
              ],
              [
               0.1111111111111111,
               "#46039f"
              ],
              [
               0.2222222222222222,
               "#7201a8"
              ],
              [
               0.3333333333333333,
               "#9c179e"
              ],
              [
               0.4444444444444444,
               "#bd3786"
              ],
              [
               0.5555555555555556,
               "#d8576b"
              ],
              [
               0.6666666666666666,
               "#ed7953"
              ],
              [
               0.7777777777777778,
               "#fb9f3a"
              ],
              [
               0.8888888888888888,
               "#fdca26"
              ],
              [
               1,
               "#f0f921"
              ]
             ]
            },
            "colorway": [
             "#636efa",
             "#EF553B",
             "#00cc96",
             "#ab63fa",
             "#FFA15A",
             "#19d3f3",
             "#FF6692",
             "#B6E880",
             "#FF97FF",
             "#FECB52"
            ],
            "font": {
             "color": "#2a3f5f"
            },
            "geo": {
             "bgcolor": "white",
             "lakecolor": "white",
             "landcolor": "#E5ECF6",
             "showlakes": true,
             "showland": true,
             "subunitcolor": "white"
            },
            "hoverlabel": {
             "align": "left"
            },
            "hovermode": "closest",
            "mapbox": {
             "style": "light"
            },
            "paper_bgcolor": "white",
            "plot_bgcolor": "#E5ECF6",
            "polar": {
             "angularaxis": {
              "gridcolor": "white",
              "linecolor": "white",
              "ticks": ""
             },
             "bgcolor": "#E5ECF6",
             "radialaxis": {
              "gridcolor": "white",
              "linecolor": "white",
              "ticks": ""
             }
            },
            "scene": {
             "xaxis": {
              "backgroundcolor": "#E5ECF6",
              "gridcolor": "white",
              "gridwidth": 2,
              "linecolor": "white",
              "showbackground": true,
              "ticks": "",
              "zerolinecolor": "white"
             },
             "yaxis": {
              "backgroundcolor": "#E5ECF6",
              "gridcolor": "white",
              "gridwidth": 2,
              "linecolor": "white",
              "showbackground": true,
              "ticks": "",
              "zerolinecolor": "white"
             },
             "zaxis": {
              "backgroundcolor": "#E5ECF6",
              "gridcolor": "white",
              "gridwidth": 2,
              "linecolor": "white",
              "showbackground": true,
              "ticks": "",
              "zerolinecolor": "white"
             }
            },
            "shapedefaults": {
             "line": {
              "color": "#2a3f5f"
             }
            },
            "ternary": {
             "aaxis": {
              "gridcolor": "white",
              "linecolor": "white",
              "ticks": ""
             },
             "baxis": {
              "gridcolor": "white",
              "linecolor": "white",
              "ticks": ""
             },
             "bgcolor": "#E5ECF6",
             "caxis": {
              "gridcolor": "white",
              "linecolor": "white",
              "ticks": ""
             }
            },
            "title": {
             "x": 0.05
            },
            "xaxis": {
             "automargin": true,
             "gridcolor": "white",
             "linecolor": "white",
             "ticks": "",
             "title": {
              "standoff": 15
             },
             "zerolinecolor": "white",
             "zerolinewidth": 2
            },
            "yaxis": {
             "automargin": true,
             "gridcolor": "white",
             "linecolor": "white",
             "ticks": "",
             "title": {
              "standoff": 15
             },
             "zerolinecolor": "white",
             "zerolinewidth": 2
            }
           }
          }
         }
        },
        "subplots": {
         "_heights": [
          1
         ],
         "_widths": [
          1
         ],
         "cols": 1,
         "column_titles": null,
         "column_widths": null,
         "grid_ref": [
          [
           [
            {
             "layout_keys": [
              "xaxis",
              "yaxis"
             ],
             "subplot_kind": "xy",
             "trace_kwargs": {
              "fields": {
               "xaxis": "x",
               "yaxis": "y"
              }
             }
            }
           ]
          ]
         ],
         "has_secondary_y": false,
         "horizontal_spacing": 0.2,
         "insets": null,
         "max_width": 1,
         "row_heights": null,
         "row_titles": null,
         "rows": 1,
         "shared_xaxes": false,
         "shared_yaxes": false,
         "specs": [
          [
           {
            "b": 0,
            "colspan": 1,
            "kind": "xy",
            "l": 0,
            "r": 0,
            "rowspan": 1,
            "secondary_y": false,
            "t": 0
           }
          ]
         ],
         "start_cell": "top-left",
         "subplot_titles": null,
         "vertical_spacing": 0.3,
         "x_title": null,
         "y_title": null
        }
       }
      },
      "text/html": [
       "<div\n",
       "    class=\"webio-mountpoint\"\n",
       "    data-webio-mountpoint=\"14032733570238131098\"\n",
       ">\n",
       "    <script>\n",
       "    (function(){\n",
       "    // Some integrations (namely, IJulia/Jupyter) use an alternate render pathway than\n",
       "    // just putting the html on the page. If WebIO isn't defined, then it's pretty likely\n",
       "    // that we're in one of those situations and the integration just isn't installed\n",
       "    // correctly.\n",
       "    if (typeof window.WebIO === \"undefined\") {\n",
       "        document\n",
       "            .querySelector('[data-webio-mountpoint=\"14032733570238131098\"]')\n",
       "            .innerHTML = (\n",
       "                '<div style=\"padding: 1em; background-color: #f8d6da; border: 1px solid #f5c6cb; font-weight: bold;\">' +\n",
       "                '<p><strong>WebIO not detected.</strong></p>' +\n",
       "                '<p>Please read ' +\n",
       "                '<a href=\"https://juliagizmos.github.io/WebIO.jl/latest/troubleshooting/not-detected/\" target=\"_blank\">the troubleshooting guide</a> ' +\n",
       "                'for more information on how to resolve this issue.</p>' +\n",
       "                '<p><a href=\"https://juliagizmos.github.io/WebIO.jl/latest/troubleshooting/not-detected/\" target=\"_blank\">https://juliagizmos.github.io/WebIO.jl/latest/troubleshooting/not-detected/</a></p>' +\n",
       "                '</div>'\n",
       "            );\n",
       "        return;\n",
       "    }\n",
       "    WebIO.mount(\n",
       "        document.querySelector('[data-webio-mountpoint=\"14032733570238131098\"]'),\n",
       "        {\"props\":{},\"nodeType\":\"Scope\",\"type\":\"node\",\"instanceArgs\":{\"imports\":{\"data\":[{\"name\":\"Plotly\",\"type\":\"js\",\"url\":\"\\/assetserver\\/c8d890b7ab5bafa988f8e237150d24f16764a7ea-plotly.min.js\"},{\"name\":null,\"type\":\"js\",\"url\":\"\\/assetserver\\/6e661dd33ca15afee5b333d240e073494aaea846-plotly_webio.bundle.js\"}],\"type\":\"async_block\"},\"id\":\"13836363363807082444\",\"handlers\":{\"_toImage\":[\"(function (options){return this.Plotly.toImage(this.plotElem,options).then((function (data){return WebIO.setval({\\\"name\\\":\\\"image\\\",\\\"scope\\\":\\\"13836363363807082444\\\",\\\"id\\\":\\\"5\\\",\\\"type\\\":\\\"observable\\\"},data)}))})\"],\"__get_gd_contents\":[\"(function (prop){prop==\\\"data\\\" ? (WebIO.setval({\\\"name\\\":\\\"__gd_contents\\\",\\\"scope\\\":\\\"13836363363807082444\\\",\\\"id\\\":\\\"6\\\",\\\"type\\\":\\\"observable\\\"},this.plotElem.data)) : undefined; return prop==\\\"layout\\\" ? (WebIO.setval({\\\"name\\\":\\\"__gd_contents\\\",\\\"scope\\\":\\\"13836363363807082444\\\",\\\"id\\\":\\\"6\\\",\\\"type\\\":\\\"observable\\\"},this.plotElem.layout)) : undefined})\"],\"_downloadImage\":[\"(function (options){return this.Plotly.downloadImage(this.plotElem,options)})\"],\"_commands\":[\"(function (args){var fn=args.shift(); var elem=this.plotElem; var Plotly=this.Plotly; args.unshift(elem); return Plotly[fn].apply(this,args)})\"]},\"systemjs_options\":null,\"mount_callbacks\":[\"function () {\\n    var handler = ((function (Plotly,PlotlyWebIO){PlotlyWebIO.init(WebIO); var gd=this.dom.querySelector(\\\"#plot-a7bad27b-892b-49f8-9a34-8c5d26d258c1\\\"); this.plotElem=gd; this.Plotly=Plotly; (window.Blink!==undefined) ? (gd.style.width=\\\"100%\\\", gd.style.height=\\\"100vh\\\", gd.style.marginLeft=\\\"0%\\\", gd.style.marginTop=\\\"0vh\\\") : undefined; window.onresize=(function (){return Plotly.Plots.resize(gd)}); Plotly.newPlot(gd,[{\\\"mode\\\":\\\"markers\\\",\\\"y\\\":[-87.0,-83.0,-83.0,-77.0,-80.0,-79.0,-80.0,-80.0,-85.0,-85.0,-80.0,-82.0,-90.0,-87.0,-81.0,-88.0,-88.0,-83.0,-88.0,-81.0,-80.0,-88.0,-82.0,-81.0,-84.0,-82.0,-81.0,-81.0,-83.0,-81.0,-77.0,-83.0,-81.0,-78.0,-81.0,-83.0,-78.0,-81.0,-81.0,-80.0,-87.0,-91.0,-87.0,-87.0,-86.0,-87.0,-83.0,-88.0,-80.0,-79.0,-82.0,-74.0,-80.0,-85.0,-80.0,-84.0,-82.0,-80.0,-76.0,-76.0,-88.0,-86.0,-82.0,-89.0,-84.0,-81.0,-88.0,-84.0,-80.0,-80.0,-80.0,-81.0,-87.0,-86.0,-82.0,-87.0,-79.0,-81.0,-90.0,-78.0,-87.0,-81.0,-82.0,-77.0,-79.0,-78.0,-78.0,-84.0,-86.0,-85.0,-94.0,-88.0,-85.0,-79.0,-86.0,-84.0,-79.0,-80.0,-83.0,-86.0,-85.0,-79.0,-78.0,-80.0,-77.0,-77.0,-77.0,-78.0,-85.0,-80.0,-84.0,-81.0,-82.0,-82.0,-76.0,-81.0,-78.0,-90.0,-90.0,-91.0,-80.0,-83.0,-80.0,-81.0,-88.0,-86.0,-87.0,-88.0,-88.0,-87.0,-89.0,-88.0,-83.0,-83.0,-78.0,-82.0,-80.0,-79.0,-81.0,-83.0,-81.0,-80.0,-81.0,-82.0,-81.0,-85.0,-77.0,-82.0,-84.0,-85.0,-82.0,-81.0,-79.0,-82.0,-83.0,-87.0,-81.0,-85.0,-80.0,-84.0,-81.0,-82.0,-82.0,-78.0,-80.0,-81.0,-82.0,-82.0,-82.0,-80.0,-81.0,-82.0,-86.0,-84.0,-82.0,-81.0,-81.0,-84.0,-85.0,-85.0,-87.0,-78.0,-83.0,-83.0,-81.0,-83.0,-80.0,-81.0,-81.0,-87.0,-86.0,-79.0,-89.0,-82.0,-88.0,-76.0,-83.0,-85.0,-90.0,-83.0,-89.0,-87.0,-88.0,-87.0,-87.0,-83.0,-78.0,-80.0,-89.0,-86.0,-86.0,-87.0,-87.0,-87.0,-83.0,-83.0,-83.0,-88.0,-79.0,-78.0,-74.0,-82.0,-87.0,-85.0,-84.0,-87.0,-83.0,-88.0,-91.0,-91.0,-83.0,-83.0,-86.0,-84.0,-83.0,-84.0,-90.0,-83.0,-84.0,-83.0,-82.0,-81.0,-87.0,-90.0,-82.0,-83.0,-78.0,-84.0,-84.0,-88.0,-80.0,-82.0,-82.0,-87.0,-87.0,-77.0,-89.0,-87.0,-85.0,-81.0,-81.0,-78.0,-85.0,-86.0,-96.0,-87.0,-84.0,-81.0,-81.0,-83.0,-83.0,-82.0,-83.0,-87.0,-86.0,-88.0,-88.0,-86.0,-86.0,-86.0,-81.0,-85.0,-84.0,-85.0,-87.0,-83.0,-86.0,-87.0,-83.0,-85.0,-84.0,-86.0,-81.0,-86.0,-82.0,-82.0,-80.0,-83.0,-82.0,-81.0,-83.0,-82.0,-82.0,-81.0,-83.0,-83.0,-82.0,-82.0,-84.0,-85.0,-87.0,-87.0,-93.0,-93.0,-90.0,-89.0,-90.0,-88.0,-88.0,-83.0,-86.0,-81.0,-81.0,-85.0,-85.0,-80.0,-78.0,-80.0,-81.0,-84.0,-79.0,-77.0,-78.0,-81.0,-81.0,-80.0,-77.0,-81.0,-86.0,-81.0,-80.0,-81.0,-82.0,-81.0,-79.0,-79.0,-82.0,-76.0,-79.0,-79.0,-69.0,-68.0,-73.0,-73.0,-73.0,-68.0,-77.0,-73.0,-73.0,-66.0,-66.0,-74.0,-66.0,-71.0,-68.0,-71.0,-70.0,-66.0,-73.0,-76.0,-66.0,-70.0,-72.0,-71.0,-70.0,-74.0,-71.0,-74.0,-73.0,-73.0,-77.0,-80.0,-77.0,-79.0,-78.0,-77.0,-79.0,-80.0,-78.0,-71.0,-90.0,-74.0,-74.0,-72.0,-71.0,-76.0,-71.0,-70.0,-75.0,-71.0,-75.0,-69.0,-71.0,-72.0,-75.0,-78.0,-76.0,-76.0,-77.0,-80.0,-75.0,-75.0,-75.0,-78.0,-78.0,-80.0,-92.0,-79.0,-80.0,-78.0,-79.0,-80.0,-87.0,-81.0,-82.0,-82.0,-76.0,-67.0,-67.0,-83.0,-73.0,-74.0,-74.0,-71.0,-80.0,-75.0,-76.0,-79.0,-72.0,-74.0,-74.0,-67.0,-76.0,-72.0,-71.0,-73.0,-73.0,-66.0,-72.0,-73.0,-75.0,-73.0,-75.0,-72.0,-72.0,-74.0,-73.0,-70.0,-74.0,-74.0,-79.0,-79.0,-67.0,-75.0,-68.0,-70.0,-64.0,-72.0,-65.0,-64.0,-67.0,-68.0,-67.0,-66.0,-70.0,-66.0,-77.0,-75.0,-85.0,-76.0,-79.0,-81.0,-78.0,-73.0,-74.0,-76.0,-76.0,-81.0,-89.0,-77.0,-78.0,-81.0,-80.0,-79.0,-80.0,-78.0,-78.0,-78.0,-78.0,-75.0,-79.0,-80.0,-76.0,-79.0,-77.0,-80.0,-79.0,-78.0,-78.0,-78.0,-75.0,-73.0,-75.0,-76.0,-78.0,-80.0,-79.0,-80.0,-79.0,-73.0,-78.0,-78.0,-70.0,-74.0,-75.0,-80.0,-79.0,-79.0,-79.0,-74.0,-77.0,-75.0,-73.0,-73.0,-71.0,-79.0,-69.0,-69.0,-71.0,-75.0,-72.0,-68.0,-74.0,-77.0,-70.0,-68.0,-71.0,-70.0,-67.0,-65.0,-67.0,-68.0,-70.0,-67.0,-74.0,-76.0,-76.0,-70.0,-75.0,-75.0,-63.0,-64.0,-66.0,-64.0,-65.0,-65.0,-64.0,-65.0,-65.0,-65.0,-64.0,-65.0,-64.0,-66.0,-66.0,-65.0,-65.0,-73.0,-71.0,-76.0,-72.0,-72.0,-72.0,-70.0,-68.0,-64.0,-64.0,-69.0,-78.0,-78.0,-70.0,-71.0,-66.0,-68.0,-70.0,-71.0,-70.0,-70.0,-71.0,-69.0,-70.0,-70.0,-71.0,-76.0,-70.0,-67.0,-71.0,-64.0,-65.0,-69.0,-71.0,-66.0,-79.0,-71.0,-75.0,-76.0,-71.0,-71.0,-71.0,-72.0,-72.0,-74.0,-74.0,-76.0,-73.0,-72.0,-73.0,-82.0,-71.0,-72.0,-66.0,-75.0,-72.0,-67.0,-71.0,-73.0,-73.0,-72.0,-72.0,-77.0,-75.0,-77.0,-73.0,-79.0,-79.0,-85.0,-80.0,-78.0,-74.0,-74.0,-75.0,-74.0,-74.0,-73.0,-77.0,-77.0,-73.0,-85.0,-84.0,-84.0,-83.0,-79.0,-72.0,-75.0,-73.0,-75.0,-69.0,-80.0,-80.0,-78.0,-77.0,-69.0,-72.0,-77.0,-77.0,-77.0,-76.0,-77.0,-72.0,-69.0,-69.0,-67.0,-72.0,-74.0,-70.0,-70.0,-69.0,-70.0,-69.0,-80.0,-76.0,-76.0,-80.0,-77.0,-71.0,-80.0,-70.0,-70.0,-69.0,-69.0,-71.0,-73.0,-70.0,-70.0,-72.0,-69.0,-69.0,-70.0,-72.0,-74.0,-77.0,-71.0,-79.0,-74.0,-75.0,-72.0,-69.0,-70.0,-74.0,-73.0,-73.0,-75.0,-79.0,-74.0,-77.0,-69.0,-85.0,-70.0,-70.0,-74.0,-75.0,-76.0,-76.0,-77.0,-77.0,-73.0,-77.0,-83.0,-75.0,-75.0,-71.0,-82.0,-74.0,-76.0,-72.0,-79.0,-77.0,-78.0,-71.0,-76.0,-74.0,-72.0,-75.0,-78.0,-73.0,-66.0,-78.0,-66.0,-75.0,-79.0,-64.0,-73.0,-74.0,-69.0,-69.0,-66.0,-75.0,-71.0,-69.0,-72.0,-73.0,-66.0,-79.0,-64.0,-73.0,-72.0,-73.0,-78.0,-72.0,-69.0,-68.0,-72.0,-71.0,-75.0,-79.0,-74.0,-75.0,-75.0,-72.0,-77.0,-77.0,-77.0,-76.0,-77.0,-76.0,-77.0,-76.0,-76.0,-72.0,-69.0,-66.0,-71.0,-72.0,-70.0,-71.0,-70.0,-84.0,-70.0,-72.0,-72.0,-71.0,-78.0,-74.0,-72.0,-76.0,-73.0,-70.0,-70.0,-70.0,-78.0,-67.0,-73.0,-73.0,-67.0,-74.0,-69.0,-69.0,-70.0,-73.0,-69.0,-64.0,-75.0,-75.0,-79.0,-89.0,-71.0,-74.0,-70.0,-70.0,-74.0,-74.0,-73.0,-74.0,-79.0,-79.0,-81.0,-77.0,-76.0,-77.0,-77.0],\\\"type\\\":\\\"scatter\\\",\\\"x\\\":[-74.0,-68.0,-64.0,-62.0,-66.0,-72.0,-63.0,-63.0,-61.0,-67.0,-67.0,-73.0,-70.0,-70.0,-74.0,-69.0,-68.0,-73.0,-67.0,-64.0,-67.0,-67.0,-68.0,-68.0,-62.0,-75.0,-75.0,-72.0,-62.0,-73.0,-70.0,-67.0,-73.0,-80.0,-73.0,-71.0,-66.0,-64.0,-72.0,-68.0,-67.0,-69.0,-68.0,-68.0,-69.0,-70.0,-74.0,-80.0,-74.0,-62.0,-74.0,-70.0,-64.0,-64.0,-65.0,-72.0,-71.0,-66.0,-68.0,-74.0,-70.0,-68.0,-68.0,-69.0,-74.0,-65.0,-66.0,-68.0,-70.0,-67.0,-67.0,-75.0,-72.0,-65.0,-65.0,-71.0,-70.0,-68.0,-73.0,-73.0,-73.0,-72.0,-73.0,-64.0,-74.0,-75.0,-75.0,-67.0,-68.0,-74.0,-65.0,-73.0,-73.0,-71.0,-71.0,-70.0,-62.0,-65.0,-69.0,-70.0,-66.0,-67.0,-64.0,-69.0,-69.0,-67.0,-67.0,-66.0,-68.0,-66.0,-73.0,-74.0,-74.0,-72.0,-75.0,-68.0,-65.0,-66.0,-74.0,-73.0,-75.0,-75.0,-69.0,-66.0,-66.0,-66.0,-69.0,-68.0,-68.0,-67.0,-68.0,-69.0,-68.0,-71.0,-76.0,-68.0,-69.0,-69.0,-69.0,-68.0,-64.0,-65.0,-62.0,-62.0,-64.0,-66.0,-66.0,-67.0,-67.0,-68.0,-72.0,-65.0,-65.0,-64.0,-60.0,-63.0,-63.0,-65.0,-63.0,-64.0,-68.0,-65.0,-69.0,-72.0,-66.0,-68.0,-73.0,-70.0,-71.0,-68.0,-67.0,-71.0,-69.0,-66.0,-73.0,-65.0,-65.0,-69.0,-67.0,-67.0,-68.0,-69.0,-64.0,-65.0,-68.0,-66.0,-69.0,-68.0,-63.0,-61.0,-68.0,-67.0,-68.0,-64.0,-66.0,-68.0,-66.0,-66.0,-66.0,-66.0,-69.0,-66.0,-66.0,-71.0,-65.0,-68.0,-65.0,-71.0,-66.0,-70.0,-69.0,-71.0,-66.0,-67.0,-69.0,-69.0,-66.0,-67.0,-64.0,-67.0,-68.0,-71.0,-71.0,-69.0,-69.0,-65.0,-67.0,-69.0,-65.0,-64.0,-65.0,-68.0,-71.0,-69.0,-70.0,-69.0,-69.0,-66.0,-68.0,-65.0,-66.0,-69.0,-66.0,-68.0,-65.0,-69.0,-67.0,-68.0,-72.0,-72.0,-70.0,-68.0,-66.0,-68.0,-68.0,-67.0,-65.0,-66.0,-69.0,-68.0,-66.0,-67.0,-71.0,-75.0,-67.0,-66.0,-66.0,-66.0,-70.0,-69.0,-68.0,-68.0,-68.0,-69.0,-69.0,-71.0,-70.0,-72.0,-72.0,-69.0,-69.0,-70.0,-69.0,-76.0,-73.0,-75.0,-76.0,-75.0,-77.0,-74.0,-75.0,-69.0,-68.0,-69.0,-67.0,-74.0,-75.0,-74.0,-76.0,-75.0,-75.0,-75.0,-76.0,-76.0,-75.0,-75.0,-74.0,-75.0,-74.0,-74.0,-75.0,-73.0,-74.0,-73.0,-73.0,-74.0,-74.0,-74.0,-68.0,-75.0,-73.0,-75.0,-74.0,-73.0,-70.0,-66.0,-65.0,-70.0,-64.0,-65.0,-67.0,-63.0,-64.0,-73.0,-64.0,-73.0,-60.0,-64.0,-66.0,-64.0,-66.0,-66.0,-66.0,-72.0,-70.0,-68.0,-74.0,-67.0,-62.0,-65.0,-66.0,-66.0,-73.0,-70.0,-72.0,-56.0,-64.0,-69.0,-71.0,-68.0,-73.0,-75.0,-73.0,-67.0,-76.0,-69.0,-72.0,-72.0,-66.0,-64.0,-74.0,-69.0,-69.0,-67.0,-71.0,-65.0,-67.0,-65.0,-72.0,-74.0,-68.0,-73.0,-74.0,-71.0,-73.0,-72.0,-72.0,-73.0,-69.0,-71.0,-68.0,-76.0,-71.0,-64.0,-63.0,-65.0,-63.0,-63.0,-66.0,-66.0,-71.0,-66.0,-59.0,-65.0,-66.0,-69.0,-71.0,-71.0,-68.0,-64.0,-62.0,-78.0,-68.0,-71.0,-69.0,-77.0,-73.0,-66.0,-70.0,-69.0,-71.0,-58.0,-63.0,-68.0,-67.0,-67.0,-65.0,-61.0,-60.0,-61.0,-68.0,-68.0,-68.0,-65.0,-65.0,-65.0,-67.0,-64.0,-69.0,-71.0,-60.0,-66.0,-64.0,-66.0,-70.0,-67.0,-75.0,-73.0,-61.0,-61.0,-63.0,-65.0,-68.0,-79.0,-79.0,-74.0,-70.0,-74.0,-69.0,-86.0,-62.0,-73.0,-71.0,-75.0,-77.0,-74.0,-74.0,-80.0,-80.0,-75.0,-75.0,-75.0,-73.0,-75.0,-75.0,-84.0,-68.0,-70.0,-70.0,-64.0,-61.0,-75.0,-71.0,-63.0,-66.0,-62.0,-62.0,-78.0,-75.0,-74.0,-77.0,-77.0,-76.0,-71.0,-73.0,-71.0,-82.0,-82.0,-74.0,-81.0,-74.0,-70.0,-80.0,-72.0,-71.0,-74.0,-71.0,-63.0,-68.0,-64.0,-64.0,-71.0,-74.0,-73.0,-72.0,-72.0,-72.0,-72.0,-72.0,-64.0,-71.0,-75.0,-65.0,-67.0,-70.0,-74.0,-73.0,-67.0,-68.0,-75.0,-65.0,-69.0,-69.0,-64.0,-73.0,-61.0,-66.0,-66.0,-68.0,-66.0,-71.0,-67.0,-61.0,-63.0,-72.0,-65.0,-67.0,-65.0,-64.0,-62.0,-62.0,-65.0,-65.0,-63.0,-63.0,-69.0,-65.0,-65.0,-66.0,-67.0,-80.0,-63.0,-73.0,-71.0,-64.0,-64.0,-63.0,-74.0,-62.0,-62.0,-63.0,-64.0,-64.0,-64.0,-61.0,-71.0,-62.0,-64.0,-61.0,-62.0,-60.0,-60.0,-62.0,-70.0,-63.0,-62.0,-72.0,-69.0,-69.0,-63.0,-60.0,-63.0,-69.0,-63.0,-63.0,-61.0,-64.0,-62.0,-63.0,-66.0,-68.0,-67.0,-62.0,-63.0,-66.0,-75.0,-64.0,-75.0,-73.0,-64.0,-71.0,-64.0,-64.0,-64.0,-63.0,-64.0,-66.0,-74.0,-69.0,-73.0,-67.0,-67.0,-71.0,-64.0,-70.0,-65.0,-70.0,-71.0,-62.0,-65.0,-72.0,-72.0,-65.0,-62.0,-62.0,-64.0,-72.0,-58.0,-68.0,-57.0,-66.0,-71.0,-71.0,-65.0,-65.0,-69.0,-70.0,-70.0,-70.0,-71.0,-73.0,-73.0,-67.0,-66.0,-69.0,-71.0,-62.0,-62.0,-69.0,-67.0,-67.0,-67.0,-66.0,-71.0,-65.0,-58.0,-60.0,-76.0,-66.0,-63.0,-60.0,-69.0,-73.0,-69.0,-74.0,-67.0,-64.0,-68.0,-68.0,-70.0,-75.0,-72.0,-60.0,-61.0,-59.0,-62.0,-59.0,-61.0,-61.0,-60.0,-60.0,-61.0,-61.0,-63.0,-61.0,-61.0,-64.0,-65.0,-65.0,-66.0,-62.0,-62.0,-61.0,-80.0,-80.0,-80.0,-68.0,-71.0,-77.0,-70.0,-66.0,-71.0,-61.0,-66.0,-60.0,-56.0,-67.0,-62.0,-71.0,-70.0,-70.0,-70.0,-70.0,-73.0,-70.0,-66.0,-62.0,-63.0,-61.0,-71.0,-60.0,-66.0,-60.0,-62.0,-64.0,-63.0,-58.0,-59.0,-63.0,-70.0,-67.0,-64.0,-65.0,-61.0,-63.0,-69.0,-62.0,-64.0,-61.0,-66.0,-60.0,-59.0,-61.0,-63.0,-63.0,-63.0,-64.0,-67.0,-60.0,-63.0,-70.0,-67.0,-70.0,-74.0,-76.0,-76.0,-59.0,-71.0,-69.0,-67.0,-62.0,-64.0,-74.0,-75.0,-69.0,-69.0,-62.0,-69.0,-65.0,-65.0,-71.0,-68.0,-70.0,-70.0,-61.0,-64.0,-66.0,-66.0,-70.0,-69.0,-63.0,-68.0,-67.0,-78.0,-78.0,-78.0,-70.0,-68.0,-68.0,-64.0,-64.0,-71.0,-71.0,-75.0,-64.0,-65.0,-69.0,-69.0,-69.0,-65.0,-66.0,-67.0,-66.0,-70.0,-63.0,-63.0,-67.0,-69.0,-63.0,-74.0,-61.0,-61.0,-61.0,-60.0,-68.0,-65.0,-63.0,-75.0,-68.0,-76.0,-71.0,-71.0,-68.0,-63.0,-63.0,-69.0,-64.0,-64.0,-58.0,-61.0,-73.0,-64.0,-68.0,-71.0,-71.0,-85.0,-63.0,-64.0,-65.0,-69.0]}],{\\\"template\\\":{\\\"layout\\\":{\\\"coloraxis\\\":{\\\"colorbar\\\":{\\\"ticks\\\":\\\"\\\",\\\"outlinewidth\\\":0}},\\\"xaxis\\\":{\\\"gridcolor\\\":\\\"white\\\",\\\"zerolinewidth\\\":2,\\\"title\\\":{\\\"standoff\\\":15},\\\"ticks\\\":\\\"\\\",\\\"zerolinecolor\\\":\\\"white\\\",\\\"automargin\\\":true,\\\"linecolor\\\":\\\"white\\\"},\\\"hovermode\\\":\\\"closest\\\",\\\"paper_bgcolor\\\":\\\"white\\\",\\\"geo\\\":{\\\"showlakes\\\":true,\\\"showland\\\":true,\\\"landcolor\\\":\\\"#E5ECF6\\\",\\\"bgcolor\\\":\\\"white\\\",\\\"subunitcolor\\\":\\\"white\\\",\\\"lakecolor\\\":\\\"white\\\"},\\\"colorscale\\\":{\\\"sequential\\\":[[0.0,\\\"#0d0887\\\"],[0.1111111111111111,\\\"#46039f\\\"],[0.2222222222222222,\\\"#7201a8\\\"],[0.3333333333333333,\\\"#9c179e\\\"],[0.4444444444444444,\\\"#bd3786\\\"],[0.5555555555555556,\\\"#d8576b\\\"],[0.6666666666666666,\\\"#ed7953\\\"],[0.7777777777777778,\\\"#fb9f3a\\\"],[0.8888888888888888,\\\"#fdca26\\\"],[1.0,\\\"#f0f921\\\"]],\\\"diverging\\\":[[0,\\\"#8e0152\\\"],[0.1,\\\"#c51b7d\\\"],[0.2,\\\"#de77ae\\\"],[0.3,\\\"#f1b6da\\\"],[0.4,\\\"#fde0ef\\\"],[0.5,\\\"#f7f7f7\\\"],[0.6,\\\"#e6f5d0\\\"],[0.7,\\\"#b8e186\\\"],[0.8,\\\"#7fbc41\\\"],[0.9,\\\"#4d9221\\\"],[1,\\\"#276419\\\"]],\\\"sequentialminus\\\":[[0.0,\\\"#0d0887\\\"],[0.1111111111111111,\\\"#46039f\\\"],[0.2222222222222222,\\\"#7201a8\\\"],[0.3333333333333333,\\\"#9c179e\\\"],[0.4444444444444444,\\\"#bd3786\\\"],[0.5555555555555556,\\\"#d8576b\\\"],[0.6666666666666666,\\\"#ed7953\\\"],[0.7777777777777778,\\\"#fb9f3a\\\"],[0.8888888888888888,\\\"#fdca26\\\"],[1.0,\\\"#f0f921\\\"]]},\\\"yaxis\\\":{\\\"gridcolor\\\":\\\"white\\\",\\\"zerolinewidth\\\":2,\\\"title\\\":{\\\"standoff\\\":15},\\\"ticks\\\":\\\"\\\",\\\"zerolinecolor\\\":\\\"white\\\",\\\"automargin\\\":true,\\\"linecolor\\\":\\\"white\\\"},\\\"shapedefaults\\\":{\\\"line\\\":{\\\"color\\\":\\\"#2a3f5f\\\"}},\\\"hoverlabel\\\":{\\\"align\\\":\\\"left\\\"},\\\"mapbox\\\":{\\\"style\\\":\\\"light\\\"},\\\"polar\\\":{\\\"angularaxis\\\":{\\\"gridcolor\\\":\\\"white\\\",\\\"ticks\\\":\\\"\\\",\\\"linecolor\\\":\\\"white\\\"},\\\"bgcolor\\\":\\\"#E5ECF6\\\",\\\"radialaxis\\\":{\\\"gridcolor\\\":\\\"white\\\",\\\"ticks\\\":\\\"\\\",\\\"linecolor\\\":\\\"white\\\"}},\\\"autotypenumbers\\\":\\\"strict\\\",\\\"font\\\":{\\\"color\\\":\\\"#2a3f5f\\\"},\\\"ternary\\\":{\\\"baxis\\\":{\\\"gridcolor\\\":\\\"white\\\",\\\"ticks\\\":\\\"\\\",\\\"linecolor\\\":\\\"white\\\"},\\\"bgcolor\\\":\\\"#E5ECF6\\\",\\\"caxis\\\":{\\\"gridcolor\\\":\\\"white\\\",\\\"ticks\\\":\\\"\\\",\\\"linecolor\\\":\\\"white\\\"},\\\"aaxis\\\":{\\\"gridcolor\\\":\\\"white\\\",\\\"ticks\\\":\\\"\\\",\\\"linecolor\\\":\\\"white\\\"}},\\\"annotationdefaults\\\":{\\\"arrowhead\\\":0,\\\"arrowwidth\\\":1,\\\"arrowcolor\\\":\\\"#2a3f5f\\\"},\\\"plot_bgcolor\\\":\\\"#E5ECF6\\\",\\\"title\\\":{\\\"x\\\":0.05},\\\"scene\\\":{\\\"xaxis\\\":{\\\"gridcolor\\\":\\\"white\\\",\\\"gridwidth\\\":2,\\\"backgroundcolor\\\":\\\"#E5ECF6\\\",\\\"ticks\\\":\\\"\\\",\\\"showbackground\\\":true,\\\"zerolinecolor\\\":\\\"white\\\",\\\"linecolor\\\":\\\"white\\\"},\\\"zaxis\\\":{\\\"gridcolor\\\":\\\"white\\\",\\\"gridwidth\\\":2,\\\"backgroundcolor\\\":\\\"#E5ECF6\\\",\\\"ticks\\\":\\\"\\\",\\\"showbackground\\\":true,\\\"zerolinecolor\\\":\\\"white\\\",\\\"linecolor\\\":\\\"white\\\"},\\\"yaxis\\\":{\\\"gridcolor\\\":\\\"white\\\",\\\"gridwidth\\\":2,\\\"backgroundcolor\\\":\\\"#E5ECF6\\\",\\\"ticks\\\":\\\"\\\",\\\"showbackground\\\":true,\\\"zerolinecolor\\\":\\\"white\\\",\\\"linecolor\\\":\\\"white\\\"}},\\\"colorway\\\":[\\\"#636efa\\\",\\\"#EF553B\\\",\\\"#00cc96\\\",\\\"#ab63fa\\\",\\\"#FFA15A\\\",\\\"#19d3f3\\\",\\\"#FF6692\\\",\\\"#B6E880\\\",\\\"#FF97FF\\\",\\\"#FECB52\\\"]},\\\"data\\\":{\\\"barpolar\\\":[{\\\"type\\\":\\\"barpolar\\\",\\\"marker\\\":{\\\"line\\\":{\\\"color\\\":\\\"#E5ECF6\\\",\\\"width\\\":0.5}}}],\\\"carpet\\\":[{\\\"aaxis\\\":{\\\"gridcolor\\\":\\\"white\\\",\\\"endlinecolor\\\":\\\"#2a3f5f\\\",\\\"minorgridcolor\\\":\\\"white\\\",\\\"startlinecolor\\\":\\\"#2a3f5f\\\",\\\"linecolor\\\":\\\"white\\\"},\\\"type\\\":\\\"carpet\\\",\\\"baxis\\\":{\\\"gridcolor\\\":\\\"white\\\",\\\"endlinecolor\\\":\\\"#2a3f5f\\\",\\\"minorgridcolor\\\":\\\"white\\\",\\\"startlinecolor\\\":\\\"#2a3f5f\\\",\\\"linecolor\\\":\\\"white\\\"}}],\\\"scatterpolar\\\":[{\\\"type\\\":\\\"scatterpolar\\\",\\\"marker\\\":{\\\"colorbar\\\":{\\\"ticks\\\":\\\"\\\",\\\"outlinewidth\\\":0}}}],\\\"parcoords\\\":[{\\\"line\\\":{\\\"colorbar\\\":{\\\"ticks\\\":\\\"\\\",\\\"outlinewidth\\\":0}},\\\"type\\\":\\\"parcoords\\\"}],\\\"scatter\\\":[{\\\"type\\\":\\\"scatter\\\",\\\"marker\\\":{\\\"colorbar\\\":{\\\"ticks\\\":\\\"\\\",\\\"outlinewidth\\\":0}}}],\\\"histogram2dcontour\\\":[{\\\"colorbar\\\":{\\\"ticks\\\":\\\"\\\",\\\"outlinewidth\\\":0},\\\"type\\\":\\\"histogram2dcontour\\\",\\\"colorscale\\\":[[0.0,\\\"#0d0887\\\"],[0.1111111111111111,\\\"#46039f\\\"],[0.2222222222222222,\\\"#7201a8\\\"],[0.3333333333333333,\\\"#9c179e\\\"],[0.4444444444444444,\\\"#bd3786\\\"],[0.5555555555555556,\\\"#d8576b\\\"],[0.6666666666666666,\\\"#ed7953\\\"],[0.7777777777777778,\\\"#fb9f3a\\\"],[0.8888888888888888,\\\"#fdca26\\\"],[1.0,\\\"#f0f921\\\"]]}],\\\"contour\\\":[{\\\"colorbar\\\":{\\\"ticks\\\":\\\"\\\",\\\"outlinewidth\\\":0},\\\"type\\\":\\\"contour\\\",\\\"colorscale\\\":[[0.0,\\\"#0d0887\\\"],[0.1111111111111111,\\\"#46039f\\\"],[0.2222222222222222,\\\"#7201a8\\\"],[0.3333333333333333,\\\"#9c179e\\\"],[0.4444444444444444,\\\"#bd3786\\\"],[0.5555555555555556,\\\"#d8576b\\\"],[0.6666666666666666,\\\"#ed7953\\\"],[0.7777777777777778,\\\"#fb9f3a\\\"],[0.8888888888888888,\\\"#fdca26\\\"],[1.0,\\\"#f0f921\\\"]]}],\\\"scattercarpet\\\":[{\\\"type\\\":\\\"scattercarpet\\\",\\\"marker\\\":{\\\"colorbar\\\":{\\\"ticks\\\":\\\"\\\",\\\"outlinewidth\\\":0}}}],\\\"mesh3d\\\":[{\\\"colorbar\\\":{\\\"ticks\\\":\\\"\\\",\\\"outlinewidth\\\":0},\\\"type\\\":\\\"mesh3d\\\"}],\\\"surface\\\":[{\\\"colorbar\\\":{\\\"ticks\\\":\\\"\\\",\\\"outlinewidth\\\":0},\\\"type\\\":\\\"surface\\\",\\\"colorscale\\\":[[0.0,\\\"#0d0887\\\"],[0.1111111111111111,\\\"#46039f\\\"],[0.2222222222222222,\\\"#7201a8\\\"],[0.3333333333333333,\\\"#9c179e\\\"],[0.4444444444444444,\\\"#bd3786\\\"],[0.5555555555555556,\\\"#d8576b\\\"],[0.6666666666666666,\\\"#ed7953\\\"],[0.7777777777777778,\\\"#fb9f3a\\\"],[0.8888888888888888,\\\"#fdca26\\\"],[1.0,\\\"#f0f921\\\"]]}],\\\"scattermapbox\\\":[{\\\"type\\\":\\\"scattermapbox\\\",\\\"marker\\\":{\\\"colorbar\\\":{\\\"ticks\\\":\\\"\\\",\\\"outlinewidth\\\":0}}}],\\\"scattergeo\\\":[{\\\"type\\\":\\\"scattergeo\\\",\\\"marker\\\":{\\\"colorbar\\\":{\\\"ticks\\\":\\\"\\\",\\\"outlinewidth\\\":0}}}],\\\"histogram\\\":[{\\\"type\\\":\\\"histogram\\\",\\\"marker\\\":{\\\"colorbar\\\":{\\\"ticks\\\":\\\"\\\",\\\"outlinewidth\\\":0}}}],\\\"pie\\\":[{\\\"type\\\":\\\"pie\\\",\\\"automargin\\\":true}],\\\"choropleth\\\":[{\\\"colorbar\\\":{\\\"ticks\\\":\\\"\\\",\\\"outlinewidth\\\":0},\\\"type\\\":\\\"choropleth\\\"}],\\\"heatmapgl\\\":[{\\\"colorbar\\\":{\\\"ticks\\\":\\\"\\\",\\\"outlinewidth\\\":0},\\\"type\\\":\\\"heatmapgl\\\",\\\"colorscale\\\":[[0.0,\\\"#0d0887\\\"],[0.1111111111111111,\\\"#46039f\\\"],[0.2222222222222222,\\\"#7201a8\\\"],[0.3333333333333333,\\\"#9c179e\\\"],[0.4444444444444444,\\\"#bd3786\\\"],[0.5555555555555556,\\\"#d8576b\\\"],[0.6666666666666666,\\\"#ed7953\\\"],[0.7777777777777778,\\\"#fb9f3a\\\"],[0.8888888888888888,\\\"#fdca26\\\"],[1.0,\\\"#f0f921\\\"]]}],\\\"bar\\\":[{\\\"type\\\":\\\"bar\\\",\\\"error_y\\\":{\\\"color\\\":\\\"#2a3f5f\\\"},\\\"error_x\\\":{\\\"color\\\":\\\"#2a3f5f\\\"},\\\"marker\\\":{\\\"line\\\":{\\\"color\\\":\\\"#E5ECF6\\\",\\\"width\\\":0.5}}}],\\\"heatmap\\\":[{\\\"colorbar\\\":{\\\"ticks\\\":\\\"\\\",\\\"outlinewidth\\\":0},\\\"type\\\":\\\"heatmap\\\",\\\"colorscale\\\":[[0.0,\\\"#0d0887\\\"],[0.1111111111111111,\\\"#46039f\\\"],[0.2222222222222222,\\\"#7201a8\\\"],[0.3333333333333333,\\\"#9c179e\\\"],[0.4444444444444444,\\\"#bd3786\\\"],[0.5555555555555556,\\\"#d8576b\\\"],[0.6666666666666666,\\\"#ed7953\\\"],[0.7777777777777778,\\\"#fb9f3a\\\"],[0.8888888888888888,\\\"#fdca26\\\"],[1.0,\\\"#f0f921\\\"]]}],\\\"contourcarpet\\\":[{\\\"colorbar\\\":{\\\"ticks\\\":\\\"\\\",\\\"outlinewidth\\\":0},\\\"type\\\":\\\"contourcarpet\\\"}],\\\"table\\\":[{\\\"type\\\":\\\"table\\\",\\\"header\\\":{\\\"line\\\":{\\\"color\\\":\\\"white\\\"},\\\"fill\\\":{\\\"color\\\":\\\"#C8D4E3\\\"}},\\\"cells\\\":{\\\"line\\\":{\\\"color\\\":\\\"white\\\"},\\\"fill\\\":{\\\"color\\\":\\\"#EBF0F8\\\"}}}],\\\"scatter3d\\\":[{\\\"line\\\":{\\\"colorbar\\\":{\\\"ticks\\\":\\\"\\\",\\\"outlinewidth\\\":0}},\\\"type\\\":\\\"scatter3d\\\",\\\"marker\\\":{\\\"colorbar\\\":{\\\"ticks\\\":\\\"\\\",\\\"outlinewidth\\\":0}}}],\\\"scattergl\\\":[{\\\"type\\\":\\\"scattergl\\\",\\\"marker\\\":{\\\"colorbar\\\":{\\\"ticks\\\":\\\"\\\",\\\"outlinewidth\\\":0}}}],\\\"histogram2d\\\":[{\\\"colorbar\\\":{\\\"ticks\\\":\\\"\\\",\\\"outlinewidth\\\":0},\\\"type\\\":\\\"histogram2d\\\",\\\"colorscale\\\":[[0.0,\\\"#0d0887\\\"],[0.1111111111111111,\\\"#46039f\\\"],[0.2222222222222222,\\\"#7201a8\\\"],[0.3333333333333333,\\\"#9c179e\\\"],[0.4444444444444444,\\\"#bd3786\\\"],[0.5555555555555556,\\\"#d8576b\\\"],[0.6666666666666666,\\\"#ed7953\\\"],[0.7777777777777778,\\\"#fb9f3a\\\"],[0.8888888888888888,\\\"#fdca26\\\"],[1.0,\\\"#f0f921\\\"]]}],\\\"scatterternary\\\":[{\\\"type\\\":\\\"scatterternary\\\",\\\"marker\\\":{\\\"colorbar\\\":{\\\"ticks\\\":\\\"\\\",\\\"outlinewidth\\\":0}}}],\\\"scatterpolargl\\\":[{\\\"type\\\":\\\"scatterpolargl\\\",\\\"marker\\\":{\\\"colorbar\\\":{\\\"ticks\\\":\\\"\\\",\\\"outlinewidth\\\":0}}}]}},\\\"margin\\\":{\\\"l\\\":50,\\\"b\\\":50,\\\"r\\\":50,\\\"t\\\":60}},{\\\"showLink\\\":false,\\\"editable\\\":false,\\\"responsive\\\":true,\\\"staticPlot\\\":false,\\\"scrollZoom\\\":true}); gd.on(\\\"plotly_hover\\\",(function (data){var filtered_data=WebIO.PlotlyCommands.filterEventData(gd,data,\\\"hover\\\"); return !(filtered_data.isnil) ? (WebIO.setval({\\\"name\\\":\\\"hover\\\",\\\"scope\\\":\\\"13836363363807082444\\\",\\\"id\\\":\\\"1\\\",\\\"type\\\":\\\"observable\\\"},filtered_data.out)) : undefined})); gd.on(\\\"plotly_unhover\\\",(function (){return WebIO.setval({\\\"name\\\":\\\"hover\\\",\\\"scope\\\":\\\"13836363363807082444\\\",\\\"id\\\":\\\"1\\\",\\\"type\\\":\\\"observable\\\"},{})})); gd.on(\\\"plotly_selected\\\",(function (data){var filtered_data=WebIO.PlotlyCommands.filterEventData(gd,data,\\\"selected\\\"); return !(filtered_data.isnil) ? (WebIO.setval({\\\"name\\\":\\\"selected\\\",\\\"scope\\\":\\\"13836363363807082444\\\",\\\"id\\\":\\\"2\\\",\\\"type\\\":\\\"observable\\\"},filtered_data.out)) : undefined})); gd.on(\\\"plotly_deselect\\\",(function (){return WebIO.setval({\\\"name\\\":\\\"selected\\\",\\\"scope\\\":\\\"13836363363807082444\\\",\\\"id\\\":\\\"2\\\",\\\"type\\\":\\\"observable\\\"},{})})); gd.on(\\\"plotly_relayout\\\",(function (data){var filtered_data=WebIO.PlotlyCommands.filterEventData(gd,data,\\\"relayout\\\"); return !(filtered_data.isnil) ? (WebIO.setval({\\\"name\\\":\\\"relayout\\\",\\\"scope\\\":\\\"13836363363807082444\\\",\\\"id\\\":\\\"4\\\",\\\"type\\\":\\\"observable\\\"},filtered_data.out)) : undefined})); return gd.on(\\\"plotly_click\\\",(function (data){var filtered_data=WebIO.PlotlyCommands.filterEventData(gd,data,\\\"click\\\"); return !(filtered_data.isnil) ? (WebIO.setval({\\\"name\\\":\\\"click\\\",\\\"scope\\\":\\\"13836363363807082444\\\",\\\"id\\\":\\\"3\\\",\\\"type\\\":\\\"observable\\\"},filtered_data.out)) : undefined}))}));\\n    (WebIO.importBlock({\\\"data\\\":[{\\\"name\\\":\\\"Plotly\\\",\\\"type\\\":\\\"js\\\",\\\"url\\\":\\\"\\/assetserver\\/c8d890b7ab5bafa988f8e237150d24f16764a7ea-plotly.min.js\\\"},{\\\"name\\\":null,\\\"type\\\":\\\"js\\\",\\\"url\\\":\\\"\\/assetserver\\/6e661dd33ca15afee5b333d240e073494aaea846-plotly_webio.bundle.js\\\"}],\\\"type\\\":\\\"async_block\\\"})).then((imports) => handler.apply(this, imports));\\n}\\n\"],\"observables\":{\"_toImage\":{\"sync\":false,\"id\":\"8\",\"value\":{}},\"hover\":{\"sync\":false,\"id\":\"1\",\"value\":{}},\"selected\":{\"sync\":false,\"id\":\"2\",\"value\":{}},\"__gd_contents\":{\"sync\":false,\"id\":\"6\",\"value\":{}},\"click\":{\"sync\":false,\"id\":\"3\",\"value\":{}},\"image\":{\"sync\":true,\"id\":\"5\",\"value\":\"\"},\"__get_gd_contents\":{\"sync\":false,\"id\":\"10\",\"value\":\"\"},\"_downloadImage\":{\"sync\":false,\"id\":\"9\",\"value\":{}},\"relayout\":{\"sync\":false,\"id\":\"4\",\"value\":{}},\"_commands\":{\"sync\":false,\"id\":\"7\",\"value\":[]}}},\"children\":[{\"props\":{\"id\":\"plot-a7bad27b-892b-49f8-9a34-8c5d26d258c1\"},\"nodeType\":\"DOM\",\"type\":\"node\",\"instanceArgs\":{\"namespace\":\"html\",\"tag\":\"div\"},\"children\":[]}]},\n",
       "        window,\n",
       "    );\n",
       "    })()\n",
       "    </script>\n",
       "</div>\n"
      ],
      "text/plain": [
       "data: [\n",
       "  \"scatter with fields mode, type, x, and y\"\n",
       "]\n",
       "\n",
       "layout: \"layout with fields margin and template\"\n",
       "\n"
      ]
     },
     "execution_count": 5,
     "metadata": {},
     "output_type": "execute_result"
    }
   ],
   "source": [
    "using PlotlyJS\n",
    "\n",
    "plot(scatter(\n",
    "    x = [p.xn[1] for p in X_train],\n",
    "    y = [p.xn[2] for p in X_train],\n",
    "    mode = \"markers\",\n",
    "))"
   ]
  },
  {
   "cell_type": "code",
   "execution_count": 4,
   "metadata": {},
   "outputs": [
    {
     "data": {
      "text/plain": [
       "300-element Vector{Float32}:\n",
       " -0.4461\n",
       " -0.057\n",
       "  0.097\n",
       " -0.0307\n",
       " -0.1286\n",
       "  0.2365\n",
       " -0.4935\n",
       "  0.1958\n",
       "  0.2297\n",
       " -0.1422\n",
       " -0.116\n",
       "  0.6392\n",
       "  0.2673\n",
       "  ⋮\n",
       " -0.0749\n",
       "  0.2017\n",
       " -0.4288\n",
       " -0.41\n",
       "  0.0268\n",
       "  0.3526\n",
       "  0.0606\n",
       "  0.6332\n",
       "  0.0938\n",
       " -0.2404\n",
       " -0.2717\n",
       "  0.1998"
      ]
     },
     "execution_count": 4,
     "metadata": {},
     "output_type": "execute_result"
    }
   ],
   "source": [
    "using Embeddings\n",
    "ft = load_embeddings(FastText_Text{:en})\n",
    "\n",
    "const get_word_index = Dict(word=>ii for (ii,word) in enumerate(ft.vocab))\n",
    "\n",
    "function get_embedding(word)\n",
    "    ind = get_word_index[word]\n",
    "    emb = ft.embeddings[:,ind]\n",
    "    return emb\n",
    "end\n",
    "\n"
   ]
  },
  {
   "cell_type": "code",
   "execution_count": 9,
   "metadata": {},
   "outputs": [
    {
     "data": {
      "text/plain": [
       "300-element Vector{Float32}:\n",
       "  0.0161\n",
       "  0.2165\n",
       " -0.1969\n",
       "  0.0378\n",
       "  0.1469\n",
       " -0.2578\n",
       "  0.0562\n",
       "  0.1028\n",
       "  0.2476\n",
       "  0.0067\n",
       "  0.1997\n",
       "  0.0255\n",
       " -0.1383\n",
       "  ⋮\n",
       "  0.1356\n",
       "  0.1344\n",
       "  0.0168\n",
       " -0.0745\n",
       "  0.1535\n",
       "  0.0663\n",
       " -0.328\n",
       " -0.052\n",
       " -0.1002\n",
       " -0.3015\n",
       "  0.0973\n",
       " -0.0093"
      ]
     },
     "execution_count": 9,
     "metadata": {},
     "output_type": "execute_result"
    }
   ],
   "source": [
    "get_embedding(\"red\")"
   ]
  }
 ],
 "metadata": {
  "kernelspec": {
   "display_name": "Julia 1.10.2",
   "language": "julia",
   "name": "julia-1.10"
  },
  "language_info": {
   "file_extension": ".jl",
   "mimetype": "application/julia",
   "name": "julia",
   "version": "1.10.2"
  }
 },
 "nbformat": 4,
 "nbformat_minor": 2
}
