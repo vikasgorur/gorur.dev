{
  "cells": [
    {
      "cell_type": "raw",
      "metadata": {},
      "source": [
        "---\n",
        "title: Everything is a Vector\n",
        "format:\n",
        "  html:\n",
        "    mainfont: PT Serif\n",
        "    code-fold: false\n",
        "---"
      ],
      "id": "8b20d7cc"
    },
    {
      "cell_type": "markdown",
      "metadata": {},
      "source": [
        "Hi this is nice.\n",
        "\n",
        "What now?\n",
        "\n",
        "Wifi dataset: https://archive.ics.uci.edu/dataset/422/wireless+indoor+localization\n"
      ],
      "id": "c49e0ecd"
    },
    {
      "cell_type": "code",
      "metadata": {},
      "source": [
        "distance(v1, v2) = sqrt(sum((v1 - v2).^2))"
      ],
      "id": "ae2e0630",
      "execution_count": null,
      "outputs": []
    },
    {
      "cell_type": "code",
      "metadata": {},
      "source": [
        "struct Point\n",
        "    xn::Vector{Float16}\n",
        "    label::String\n",
        "end\n",
        "\n",
        "function knn(X::Array{Point}, xn::Vector{Float16}, k::Int)\n",
        "    ds = [distance(x.v, v) for x in X]\n",
        "    return X[sortperm(ds)[1:k]]\n",
        "end"
      ],
      "id": "c9ea5da0",
      "execution_count": null,
      "outputs": []
    },
    {
      "cell_type": "code",
      "metadata": {},
      "source": [
        "using CSV, DataFrames\n",
        "\n",
        "wifi = CSV.read(\n",
        "    \"data/wifi.tsv\",\n",
        "    DataFrame,\n",
        "    header=[\"w1\", \"w2\", \"w3\", \"w4\", \"w5\", \"w6\", \"w7\", \"room\"]\n",
        ")\n",
        "wifi = wifi[(wifi.room .== 1) .| (wifi.room .== 2), :]\n",
        "\n",
        "# Iterate across each row of wifi and create a Point for it\n",
        "X = [\n",
        "    Point(collect(row[[:w5, :w7]]), row[:room])\n",
        "    for row in eachrow(wifi)\n",
        "]"
      ],
      "id": "10db332e",
      "execution_count": null,
      "outputs": []
    },
    {
      "cell_type": "code",
      "metadata": {},
      "source": [
        "using MLUtils\n",
        "\n",
        "X_test, X_train = splitobs(X, at=0.15)\n",
        "X_train = collect(X_train)\n",
        "X_test = collect(X_test)\n",
        "\n",
        "\"Return the element that occurs most frequently in an array\"\n",
        "function majority(items::Vector{T})::T where T\n",
        "    c = Dict{T, Int}()\n",
        "    for it in items\n",
        "        if !haskey(c, it)\n",
        "            c[it] = 1\n",
        "        else\n",
        "            c[it] += 1\n",
        "        end\n",
        "    end\n",
        "    return sort(collect(c), by=x->x[2], rev=true)[1][1]\n",
        "end\n",
        "\n",
        "# Compute the accuracy score\n",
        "total = 0\n",
        "correct = 0\n",
        "\n",
        "for p in X_test\n",
        "    neighbors = knn(X_train, p.v, 7)\n",
        "    label = majority([x.label for x in neighbors])\n",
        "    if label == p.label\n",
        "        correct += 1\n",
        "    end\n",
        "    total += 1\n",
        "end\n",
        "\n",
        "println(\"Accuracy: $(correct / total * 100.0)%\")"
      ],
      "id": "f1b2a8d4",
      "execution_count": null,
      "outputs": []
    }
  ],
  "metadata": {
    "kernelspec": {
      "name": "julia-1.10",
      "language": "julia",
      "display_name": "Julia 1.10.2"
    }
  },
  "nbformat": 4,
  "nbformat_minor": 5
}