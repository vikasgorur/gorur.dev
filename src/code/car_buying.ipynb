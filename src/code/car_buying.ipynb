{
 "cells": [
  {
   "cell_type": "code",
   "execution_count": 27,
   "id": "80407ba2",
   "metadata": {},
   "outputs": [],
   "source": [
    "import random from \"random\";\n",
    "import * as d3 from \"d3\";"
   ]
  },
  {
   "cell_type": "code",
   "execution_count": 31,
   "id": "e3f03c3b",
   "metadata": {},
   "outputs": [
    {
     "ename": "ReferenceError",
     "evalue": "document is not defined",
     "output_type": "error",
     "traceback": [
      "Stack trace:",
      "ReferenceError: document is not defined",
      "    at <anonymous>:1:34"
     ]
    }
   ],
   "source": [
    "const div = document.createElement(\"div\");\n",
    "document.body.appendChild(div);\n",
    "\n",
    "const svg = d3.select(div).append(\"svg\").attr(\"width\", 640)\n",
    ".attr(\"height\", 480);\n"
   ]
  },
  {
   "cell_type": "code",
   "execution_count": 14,
   "id": "5285fcbc",
   "metadata": {},
   "outputs": [
    {
     "ename": "TypeError",
     "evalue": "Cannot read properties of undefined (reading 'create')",
     "output_type": "error",
     "traceback": [
      "Stack trace:",
      "TypeError: Cannot read properties of undefined (reading 'create')",
      "    at <anonymous>:22:16"
     ]
    }
   ],
   "source": [
    "// Generate normal distribution data\n",
    "const generateNormalData = (n: number, mean: number, stdDev: number) => {\n",
    "    return Array.from({ length: n }, () => {\n",
    "      // Using random.normal() instead of random.random()\n",
    "      return random.normal(mean, stdDev)();\n",
    "    });\n",
    "  };\n",
    "  \n",
    "  // Create histogram data\n",
    "  const data = generateNormalData(1000, 0, 1);\n",
    "  \n",
    "  // Set up dimensions\n",
    "  const margin = { top: 20, right: 20, bottom: 30, left: 40 };\n",
    "  const width = 600 - margin.left - margin.right;\n",
    "  const height = 400 - margin.top - margin.bottom;\n",
    "  \n",
    "  // Create SVG\n",
    "  const svg = d3.create(\"svg\")\n",
    "    .attr(\"width\", 640)\n",
    "    .attr(\"height\", 480)\n",
    "  \n",
    "  // Create scales\n",
    "  const x = d3.scaleLinear()\n",
    "    .domain(d3.extent(data) as [number, number])\n",
    "    .range([0, width]);\n",
    "  \n",
    "  const histogram = d3.histogram()\n",
    "    .domain(x.domain())\n",
    "    .thresholds(x.ticks(30));\n",
    "  \n",
    "  const bins = histogram(data);\n",
    "  \n",
    "  const y = d3.scaleLinear()\n",
    "    .domain([0, d3.max(bins, d => d.length) as number])\n",
    "    .range([height, 0]);\n",
    "  \n",
    "  // Add x-axis\n",
    "  svg.append(\"g\")\n",
    "    .attr(\"transform\", `translate(0,${height})`)\n",
    "    .call(d3.axisBottom(x));\n",
    "  \n",
    "  // Add y-axis\n",
    "  svg.append(\"g\")\n",
    "    .call(d3.axisLeft(y));\n",
    "  \n",
    "  // Add bars\n",
    "  svg.selectAll(\"rect\")\n",
    "    .data(bins)\n",
    "    .enter()\n",
    "    .append(\"rect\")\n",
    "    .attr(\"x\", d => x(d.x0 as number))\n",
    "    .attr(\"y\", d => y(d.length))\n",
    "    .attr(\"width\", d => x(d.x1 as number) - x(d.x0 as number) - 1)\n",
    "    .attr(\"height\", d => height - y(d.length))\n",
    "    .style(\"fill\", \"#69b3a2\");"
   ]
  }
 ],
 "metadata": {
  "kernelspec": {
   "display_name": "Deno",
   "language": "typescript",
   "name": "deno"
  },
  "language_info": {
   "codemirror_mode": "typescript",
   "file_extension": ".ts",
   "mimetype": "text/x.typescript",
   "name": "typescript",
   "nbconvert_exporter": "script",
   "pygments_lexer": "typescript",
   "version": "5.8.3"
  }
 },
 "nbformat": 4,
 "nbformat_minor": 5
}
