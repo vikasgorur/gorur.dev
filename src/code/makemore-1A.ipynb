{
 "cells": [
  {
   "cell_type": "markdown",
   "id": "eddc93d1",
   "metadata": {},
   "source": [
    "# makemore 1 - Exercises\n",
    "\n",
    "This notebook has the exercises from the first video."
   ]
  },
  {
   "cell_type": "code",
   "execution_count": 2,
   "id": "90a8c02b",
   "metadata": {},
   "outputs": [
    {
     "name": "stdout",
     "output_type": "stream",
     "text": [
      "Number of names: 12900\n",
      "Sample names:\n",
      "\n",
      "\tBAAZIGAR\n",
      "\tPARDES\n",
      "\tANURAG MAURYA ACT\n",
      "\tBLACK MARKET\n",
      "\tAKHIYON SE GOLI MAARE\n"
     ]
    }
   ],
   "source": [
    "import pandas as pd\n",
    "\n",
    "def read_movie_names() -> list[str]:\n",
    "    movies = pd.read_csv(\"../data/movies.csv\")\n",
    "\n",
    "    def has_special_chars(name: str) -> bool:\n",
    "        AZ = set(\"ABCDEFGHIJKLMNOPQRSTUVWXYZ \")\n",
    "        return len(set(name) - AZ) > 0\n",
    "\n",
    "    return [\n",
    "        n.upper()\n",
    "        for n in list(movies.query(\"Language == 'hindi'\")[\"Movie Name\"])\n",
    "        if not has_special_chars(n.upper())\n",
    "    ]\n",
    "\n",
    "MOVIES = read_movie_names()\n",
    "print(f\"Number of names: {len(MOVIES)}\")\n",
    "sample_names = \"\\n\\t\".join(MOVIES[5584:5589])\n",
    "print(f\"Sample names:\\n\\n\\t{sample_names}\")"
   ]
  },
  {
   "cell_type": "code",
   "execution_count": 3,
   "id": "1f0fb685",
   "metadata": {},
   "outputs": [],
   "source": [
    "VOCAB = sorted(list(set(''.join(MOVIES)))) + ['.'] \n",
    "STOI = {s:i for i,s in enumerate(VOCAB)}\n",
    "ITOS = {i:s for s,i in STOI.items()}"
   ]
  },
  {
   "cell_type": "code",
   "execution_count": 5,
   "id": "ba15c513",
   "metadata": {},
   "outputs": [],
   "source": [
    "import torch\n",
    "\n",
    "def train_trigram(corpus: list[str]) -> torch.tensor:\n",
    "    N_TOKENS = len(VOCAB)\n",
    "    counts = torch.zeros((N_TOKENS, N_TOKENS, N_TOKENS))\n",
    "    for name in corpus:\n",
    "        name = \".\" + name + \".\"\n",
    "        for c1, c2, c_next in zip(name, name[1:], name[2:]):\n",
    "            counts[STOI[c1], STOI[c2], STOI[c_next]] += 1\n",
    "\n",
    "    # Normalize the counts into probabilities on each row\n",
    "    return counts / counts.sum(1, keepdim=True)\n",
    "\n",
    "model = train_trigram(MOVIES)"
   ]
  },
  {
   "cell_type": "code",
   "execution_count": 8,
   "id": "361029a9",
   "metadata": {},
   "outputs": [
    {
     "data": {
      "text/plain": [
       "tensor([0.0167, 0.0866, 0.0000, 0.0000, 0.0000, 0.0957, 0.0000, 0.0000, 0.1226,\n",
       "        0.0787, 0.0000, 0.0000, 0.2867, 0.0000, 0.0000, 0.0679, 0.0000, 0.0000,\n",
       "        0.0595, 0.0000, 0.0000, 0.0411, 0.0000, 0.0000, 0.0000, 0.0082, 0.0000,\n",
       "        0.0000])"
      ]
     },
     "execution_count": 8,
     "metadata": {},
     "output_type": "execute_result"
    }
   ],
   "source": [
    "model[STOI['.'], STOI['B']]"
   ]
  },
  {
   "cell_type": "code",
   "execution_count": 15,
   "id": "d962cfa7",
   "metadata": {},
   "outputs": [
    {
     "data": {
      "text/plain": [
       "<matplotlib.image.AxesImage at 0x31b039790>"
      ]
     },
     "execution_count": 15,
     "metadata": {},
     "output_type": "execute_result"
    },
    {
     "data": {
      "image/png": "[encoded data removed]",
      "text/plain": [
       "<Figure size 640x480 with 1 Axes>"
      ]
     },
     "metadata": {},
     "output_type": "display_data"
    }
   ],
   "source": [
    "\n",
    "import matplotlib.pyplot as plt\n",
    "\n",
    "plt.imshow(model[STOI['.']])"
   ]
  },
  {
   "cell_type": "code",
   "execution_count": 15,
   "id": "f6732c30",
   "metadata": {},
   "outputs": [
    {
     "name": "stdout",
     "output_type": "stream",
     "text": [
      "P\n"
     ]
    }
   ],
   "source": [
    "\n",
    "def sample(model: torch.tensor, context: str) -> str:\n",
    "    return ITOS[\n",
    "        torch.multinomial(\n",
    "            model[STOI[context], :],\n",
    "            replacement=True,\n",
    "            num_samples=1\n",
    "        ).item()\n",
    "    ]\n",
    "\n",
    "print(sample(model, '.'))"
   ]
  },
  {
   "cell_type": "code",
   "execution_count": 16,
   "id": "98b6ac45",
   "metadata": {},
   "outputs": [
    {
     "data": {
      "text/plain": [
       "['BOO SERAF',\n",
       " 'BE SHAN EKHELSAUMI KATAN',\n",
       " 'WA HAR DEN',\n",
       " 'PL',\n",
       " 'TALEMA KISAN SASHARADAPUR TARO']"
      ]
     },
     "execution_count": 16,
     "metadata": {},
     "output_type": "execute_result"
    }
   ],
   "source": [
    "\n",
    "def generate(model: torch.tensor, n: int) -> list[str]:\n",
    "    names = []\n",
    "    for i in range(n):\n",
    "        result = \"\"\n",
    "        token = \".\"\n",
    "        while True:\n",
    "            token = sample(model, token)\n",
    "            if token == '.':\n",
    "                break\n",
    "\n",
    "            result += token\n",
    "\n",
    "        names.append(result)\n",
    "    return names\n",
    "\n",
    "generate(model, 5)"
   ]
  },
  {
   "cell_type": "code",
   "execution_count": 17,
   "id": "d3cb2f29",
   "metadata": {},
   "outputs": [
    {
     "data": {
      "text/plain": [
       "1.8170285469177778"
      ]
     },
     "execution_count": 17,
     "metadata": {},
     "output_type": "execute_result"
    }
   ],
   "source": [
    "import math\n",
    "\n",
    "def nll_loss(names: list[str]) -> float:\n",
    "    logprobs = 0\n",
    "    count = 0\n",
    "    for name in names:\n",
    "        for c1, c2, c_next in zip(name, name[1:], name[2:]):\n",
    "            logprobs += math.log(model[STOI[c1], STOI[c2], STOI[c_next]])\n",
    "            count += 1\n",
    "\n",
    "    return -logprobs / count\n",
    "\n",
    "nll_loss(MOVIES)"
   ]
  },
  {
   "cell_type": "code",
   "execution_count": null,
   "id": "aca59e73",
   "metadata": {},
   "outputs": [
    {
     "name": "stdout",
     "output_type": "stream",
     "text": [
      "torch.Size([167136]) torch.Size([167136])\n"
     ]
    }
   ],
   "source": [
    "from typing import Tuple\n",
    "\n",
    "def training_set() -> Tuple[torch.Tensor, torch.Tensor]:\n",
    "    xs, ys = [], []\n",
    "    for name in MOVIES:\n",
    "        chars = ['.'] + list(name) + ['.']\n",
    "        for c1, c2 in zip(chars, chars[1:]):\n",
    "            ix1 = STOI[c1]\n",
    "            ix2 = STOI[c2]\n",
    "            xs.append(ix1)\n",
    "            ys.append(ix2)\n",
    "\n",
    "    return torch.tensor(xs), torch.tensor(ys) \n",
    "    \n",
    "X, Y = training_set()\n",
    "print(X.shape, Y.shape)"
   ]
  },
  {
   "cell_type": "code",
   "execution_count": 48,
   "id": "34c708cf",
   "metadata": {},
   "outputs": [],
   "source": [
    "import torch.nn.functional as F\n",
    "\n",
    "def train() -> Tuple[torch.tensor, float]:\n",
    "    \"Trains the neural net and returns the weight matrix and the loss\"\n",
    "\n",
    "    g = torch.Generator().manual_seed(2147483647)\n",
    "    Xenc = F.one_hot(X, num_classes=len(VOCAB)).float()\n",
    "    N = X.nelement()\n",
    "    W = torch.randn((len(VOCAB), len(VOCAB)), generator=g, requires_grad=True)\n",
    "    loss = 0\n",
    "\n",
    "    def forward():\n",
    "        logits = Xenc @ W\n",
    "        # the two lines below are \"softmax\"\n",
    "        counts = logits.exp()\n",
    "        probs = counts / counts.sum(1, keepdims=True) \n",
    "        return -probs[torch.arange(N), Y].log().mean()\n",
    "\n",
    "    for k in range(100):\n",
    "        loss = forward()\n",
    "        if k % 10 == 0:\n",
    "            print(f\"loss = {loss}\")\n",
    "   \n",
    "        W.grad = None\n",
    "        loss.backward()\n",
    "        W.data += -100 * W.grad\n",
    "\n",
    "    return W, loss\n"
   ]
  },
  {
   "cell_type": "code",
   "execution_count": 49,
   "id": "02be6b54",
   "metadata": {},
   "outputs": [
    {
     "name": "stdout",
     "output_type": "stream",
     "text": [
      "loss = 3.791078805923462\n",
      "loss = 2.6271109580993652\n",
      "loss = 2.5731208324432373\n",
      "loss = 2.554370403289795\n",
      "loss = 2.5453529357910156\n",
      "loss = 2.5399816036224365\n",
      "loss = 2.536348581314087\n",
      "loss = 2.5337917804718018\n",
      "loss = 2.531855344772339\n",
      "loss = 2.530343532562256\n"
     ]
    }
   ],
   "source": [
    "W, loss = train()"
   ]
  }
 ],
 "metadata": {
  "kernelspec": {
   "display_name": ".venv",
   "language": "python",
   "name": "python3"
  },
  "language_info": {
   "codemirror_mode": {
    "name": "ipython",
    "version": 3
   },
   "file_extension": ".py",
   "mimetype": "text/x-python",
   "name": "python",
   "nbconvert_exporter": "python",
   "pygments_lexer": "ipython3",
   "version": "3.11.10"
  }
 },
 "nbformat": 4,
 "nbformat_minor": 5
}
