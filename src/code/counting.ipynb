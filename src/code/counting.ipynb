{
 "cells": [
  {
   "cell_type": "code",
   "execution_count": 5,
   "metadata": {},
   "outputs": [],
   "source": [
    "import fastrand\n",
    "import random\n",
    "\n",
    "def phonecalls_fast():\n",
    "    N = 1_000_000\n",
    "    count = 0\n",
    "    week = [0, 0, 0, 0, 0, 0, 0]\n",
    "\n",
    "    for i in range(N):\n",
    "        for _ in range(12):\n",
    "            week[fastrand.pcg32randint(0, 6)] += 1\n",
    "\n",
    "        if week.count(0) == 0:\n",
    "            count += 1\n",
    "\n",
    "        week = [0, 0, 0, 0, 0, 0, 0]\n",
    "    \n",
    "    return count / N\n",
    "\n",
    "def phonecalls_py():\n",
    "    N = 1_000_000\n",
    "    count = 0\n",
    "    week = [0, 0, 0, 0, 0, 0, 0]\n",
    "\n",
    "    for i in range(N):\n",
    "        for _ in range(12):\n",
    "            week[random.randint(0, 6)] += 1\n",
    "\n",
    "        if week.count(0) == 0:\n",
    "            count += 1\n",
    "\n",
    "        week = [0, 0, 0, 0, 0, 0, 0]\n",
    "    \n",
    "    return count / N"
   ]
  },
  {
   "cell_type": "code",
   "execution_count": 6,
   "metadata": {},
   "outputs": [
    {
     "name": "stdout",
     "output_type": "stream",
     "text": [
      "17.1 s ± 230 ms per loop (mean ± std. dev. of 7 runs, 1 loop each)\n"
     ]
    }
   ],
   "source": [
    "%timeit phonecalls_py()"
   ]
  },
  {
   "cell_type": "code",
   "execution_count": 4,
   "metadata": {},
   "outputs": [
    {
     "name": "stdout",
     "output_type": "stream",
     "text": [
      "770 ms ± 43 ms per loop (mean ± std. dev. of 7 runs, 1 loop each)\n"
     ]
    }
   ],
   "source": [
    "%timeit phonecalls_fast()"
   ]
  }
 ],
 "metadata": {
  "kernelspec": {
   "display_name": "vikasgorur-github-io-umZqLeQz-py3.11",
   "language": "python",
   "name": "python3"
  },
  "language_info": {
   "codemirror_mode": {
    "name": "ipython",
    "version": 3
   },
   "file_extension": ".py",
   "mimetype": "text/x-python",
   "name": "python",
   "nbconvert_exporter": "python",
   "pygments_lexer": "ipython3",
   "version": "3.11.5"
  }
 },
 "nbformat": 4,
 "nbformat_minor": 2
}
