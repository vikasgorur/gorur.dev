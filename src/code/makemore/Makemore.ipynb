{
 "cells": [
  {
   "cell_type": "code",
   "execution_count": 2,
   "metadata": {},
   "outputs": [],
   "source": [
    "import pandas as pd\n",
    "import torch"
   ]
  },
  {
   "cell_type": "code",
   "execution_count": 3,
   "metadata": {},
   "outputs": [],
   "source": [
    "movies = pd.read_csv('movies.csv')\n",
    "names = movies.query('Language == \"hindi\" | Language == \"urdu\"')[\"Movie Name\"].values\n",
    "names = [name.lower() for name in names]"
   ]
  },
  {
   "cell_type": "code",
   "execution_count": 4,
   "metadata": {},
   "outputs": [],
   "source": [
    "def ctoi(c):\n",
    "    if c == '.':\n",
    "        return 0\n",
    "    elif c == ' ':\n",
    "        return 1\n",
    "    else:\n",
    "        return ord(c) - ord('a') + 2\n",
    "\n",
    "def itoc(i):\n",
    "    if i == 0:\n",
    "        return '.'\n",
    "    elif i == 1:\n",
    "        return ' '\n",
    "    else:\n",
    "        return chr(i + ord('a') - 2)\n",
    "\n",
    "N = torch.zeros((28, 28))\n",
    "for name in names:\n",
    "    with_terms = '.' + name + '.'\n",
    "    for i in range(len(with_terms) - 1):\n",
    "        c1 = ctoi(with_terms[i])\n",
    "        c2 = ctoi(with_terms[i + 1])\n",
    "        if not (0 <= c1 <= 27 and 0 <= c2 < 27):\n",
    "            continue\n",
    "        N[c1, c2] += 1"
   ]
  },
  {
   "cell_type": "code",
   "execution_count": 5,
   "metadata": {},
   "outputs": [],
   "source": [
    "# Normalize each row into probabilities\n",
    "Np = N / N.sum(dim=1, keepdim=True)"
   ]
  },
  {
   "cell_type": "code",
   "execution_count": 22,
   "metadata": {},
   "outputs": [
    {
     "name": "stdout",
     "output_type": "stream",
     "text": [
      "male tisi \n",
      "ekehigwale kardroi\n",
      "i odan\n",
      "nginda\n",
      "kisshu\n"
     ]
    }
   ],
   "source": [
    "def makemovie():\n",
    "    word = ['.']\n",
    "    while True:\n",
    "        next = torch.multinomial(Np[ctoi(word[-1]), :], 1, replacement=True).item()\n",
    "        if next == 0:\n",
    "            break\n",
    "        word.append(itoc(next))\n",
    "\n",
    "    return ''.join(word[1:-1])\n",
    "\n",
    "for _ in range(10):\n",
    "    m = makemovie()\n",
    "    if len(m) > 3:\n",
    "        print(m)"
   ]
  }
 ],
 "metadata": {
  "kernelspec": {
   "display_name": "zero-to-hero-47GplLeu-py3.11",
   "language": "python",
   "name": "python3"
  },
  "language_info": {
   "codemirror_mode": {
    "name": "ipython",
    "version": 3
   },
   "file_extension": ".py",
   "mimetype": "text/x-python",
   "name": "python",
   "nbconvert_exporter": "python",
   "pygments_lexer": "ipython3",
   "version": "3.11.5"
  },
  "orig_nbformat": 4
 },
 "nbformat": 4,
 "nbformat_minor": 2
}
